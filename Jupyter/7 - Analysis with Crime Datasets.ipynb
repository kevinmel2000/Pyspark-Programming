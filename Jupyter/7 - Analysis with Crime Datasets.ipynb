{
 "cells": [
  {
   "cell_type": "markdown",
   "metadata": {},
   "source": [
    "# Big Data Mining and Applications - Crime Datasets \n",
    "\n",
   ]
  },
  {
   "cell_type": "markdown",
   "metadata": {},
   "source": [
    "### Task Description\n",
    "- Goal: To perform statistics on mixed-type data\n",
    "- Input: open data (to be detailed later)\n",
    "- Output: Results of statistics (to be detailed later)\n",
    "\n",
    "\n",
    "### Input Data\n",
    "- Data: \n",
    "    - [Crime Datasets, Chicago] from US-City Open Data Census\n",
    "        - For the city of Chicago, since 2001\n",
    "    - Available at: https://data.cityofchicago.org/Public-Safety/Crimes-2001-to-present/ijzp-q8t2  \n",
    "- Format: \n",
    "    - About 6 million reported crime records, each with 22 attributes\n",
    "    - You can select [Export] to generate a single file in CSV, XML, and other formats\n",
    "    \n",
    "### Data Attributes\n",
    "\n",
    "- ID\n",
    "- Case number\n",
    "<font color=\"red\">\n",
    "- Date: date & time\n",
    "- Block: text\n",
    "</font>\n",
    "- IUCR\n",
    "<font color=\"red\">\n",
    "- Primary type: text\n",
    "- Description: text\n",
    "- Location description: text\n",
    "- Arrest: boolean\n",
    "</font>\n",
    "- Domestic\n",
    "- Beat\n",
    "\n",
    "- District\n",
    "- Ward\n",
    "- Community area\n",
    "- FBI code\n",
    "<font color=\"red\">\n",
    "- X coordinate: numeric\n",
    "- Y coordinate: numeric\n",
    "</font>\n",
    "- Year\n",
    "- Updated on\n",
    "<font color=\"blue\">\n",
    "- Latitude: numeric\n",
    "- Longitude: numeric\n",
    "</font>\n",
    "- Location"
   ]
  },
  {
   "cell_type": "code",
   "execution_count": 1,
   "metadata": {},
   "outputs": [
    {
     "name": "stdout",
     "output_type": "stream",
     "text": [
      "Linux tri-virtual-machine 4.13.0-45-generic #50~16.04.1-Ubuntu SMP Wed May 30 11:18:27 UTC 2018 x86_64 x86_64 x86_64 GNU/Linux\r\n"
     ]
    }
   ],
   "source": [
    "#information about operating system\n",
    "!uname -a"
   ]
  },
  {
   "cell_type": "code",
   "execution_count": 2,
   "metadata": {},
   "outputs": [],
   "source": [
    "#Load pyspark libraries\n",
    "from pyspark.sql import SparkSession\n",
    "from pyspark.sql.types import *\n",
    "from pyspark.sql.functions import *"
   ]
  },
  {
   "cell_type": "code",
   "execution_count": 3,
   "metadata": {},
   "outputs": [
    {
     "data": {
      "text/html": [
       "\n",
       "            <div>\n",
       "                <p><b>SparkSession - hive</b></p>\n",
       "                \n",
       "        <div>\n",
       "            <p><b>SparkContext</b></p>\n",
       "\n",
       "            <p><a href=\"http://sparklab1:4040\">Spark UI</a></p>\n",
       "\n",
       "            <dl>\n",
       "              <dt>Version</dt>\n",
       "                <dd><code>v2.3.0</code></dd>\n",
       "              <dt>Master</dt>\n",
       "                <dd><code>spark://sparklab1:7077</code></dd>\n",
       "              <dt>AppName</dt>\n",
       "                <dd><code>PySparkShell</code></dd>\n",
       "            </dl>\n",
       "        </div>\n",
       "        \n",
       "            </div>\n",
       "        "
      ],
      "text/plain": [
       "<pyspark.sql.session.SparkSession at 0x7fc0782ada50>"
      ]
     },
     "execution_count": 3,
     "metadata": {},
     "output_type": "execute_result"
    }
   ],
   "source": [
    "spark = SparkSession.builder.appName(\"Bonus\").getOrCreate()\n",
    "spark"
   ]
  },
  {
   "cell_type": "code",
   "execution_count": 4,
   "metadata": {},
   "outputs": [],
   "source": [
    "#load dataset\n",
    "df = spark.read.csv(\"/home/tri/Spark/dataset/Crimes_-_2001_to_present.csv\", header=True, inferSchema=True)"
   ]
  },
  {
   "cell_type": "code",
   "execution_count": 5,
   "metadata": {},
   "outputs": [
    {
     "name": "stdout",
     "output_type": "stream",
     "text": [
      "root\n",
      " |-- ID: integer (nullable = true)\n",
      " |-- Case Number: string (nullable = true)\n",
      " |-- Date: string (nullable = true)\n",
      " |-- Block: string (nullable = true)\n",
      " |-- IUCR: string (nullable = true)\n",
      " |-- Primary Type: string (nullable = true)\n",
      " |-- Description: string (nullable = true)\n",
      " |-- Location Description: string (nullable = true)\n",
      " |-- Arrest: boolean (nullable = true)\n",
      " |-- Domestic: boolean (nullable = true)\n",
      " |-- Beat: integer (nullable = true)\n",
      " |-- District: integer (nullable = true)\n",
      " |-- Ward: integer (nullable = true)\n",
      " |-- Community Area: integer (nullable = true)\n",
      " |-- FBI Code: string (nullable = true)\n",
      " |-- X Coordinate: integer (nullable = true)\n",
      " |-- Y Coordinate: integer (nullable = true)\n",
      " |-- Year: integer (nullable = true)\n",
      " |-- Updated On: string (nullable = true)\n",
      " |-- Latitude: double (nullable = true)\n",
      " |-- Longitude: double (nullable = true)\n",
      " |-- Location: string (nullable = true)\n",
      "\n"
     ]
    }
   ],
   "source": [
    "#check schema of dataset\n",
    "df.printSchema()"
   ]
  },
  {
   "cell_type": "code",
   "execution_count": 6,
   "metadata": {},
   "outputs": [],
   "source": [
    "#df.show()"
   ]
  },
  {
   "cell_type": "markdown",
   "metadata": {},
   "source": [
    "## (1) For the attributes  ‘Primary type’ and ‘Location description’, output the list of each value and the corresponding frequency count, sorted in descending order of the count, respectively."
   ]
  },
  {
   "cell_type": "code",
   "execution_count": 7,
   "metadata": {},
   "outputs": [
    {
     "name": "stdout",
     "output_type": "stream",
     "text": [
      "+--------------------+-------+\n",
      "|        Primary Type|  count|\n",
      "+--------------------+-------+\n",
      "|               THEFT|1387720|\n",
      "|             BATTERY|1209582|\n",
      "|     CRIMINAL DAMAGE| 758801|\n",
      "|           NARCOTICS| 705043|\n",
      "|       OTHER OFFENSE| 411112|\n",
      "|             ASSAULT| 409295|\n",
      "|            BURGLARY| 382489|\n",
      "| MOTOR VEHICLE THEFT| 309886|\n",
      "|  DECEPTIVE PRACTICE| 253572|\n",
      "|             ROBBERY| 251339|\n",
      "|   CRIMINAL TRESPASS| 190410|\n",
      "|   WEAPONS VIOLATION|  68114|\n",
      "|        PROSTITUTION|  68002|\n",
      "|PUBLIC PEACE VIOL...|  47180|\n",
      "|OFFENSE INVOLVING...|  44304|\n",
      "| CRIM SEXUAL ASSAULT|  26265|\n",
      "|         SEX OFFENSE|  24504|\n",
      "|INTERFERENCE WITH...|  14554|\n",
      "|            GAMBLING|  14280|\n",
      "|LIQUOR LAW VIOLATION|  13931|\n",
      "+--------------------+-------+\n",
      "only showing top 20 rows\n",
      "\n"
     ]
    }
   ],
   "source": [
    "df.groupBy(\"Primary Type\").count().orderBy(desc(\"count\")).show()"
   ]
  },
  {
   "cell_type": "code",
   "execution_count": 8,
   "metadata": {},
   "outputs": [],
   "source": [
    "#Save to CSV output\n",
    "df.groupBy(\"Primary Type\").count().orderBy(desc(\"count\"))\\\n",
    "            .coalesce(1).write.format(\"csv\").options(header='true')\\\n",
    "            .save(\"/home/tri/Spark/ipnyb/output/bonus/Q1/\"+\"PrimaryType_Output_Count\")"
   ]
  },
  {
   "cell_type": "code",
   "execution_count": 9,
   "metadata": {},
   "outputs": [
    {
     "name": "stdout",
     "output_type": "stream",
     "text": [
      "+--------------------+-------+\n",
      "|Location Description|  count|\n",
      "+--------------------+-------+\n",
      "|              STREET|1743410|\n",
      "|           RESIDENCE|1122457|\n",
      "|           APARTMENT| 682423|\n",
      "|            SIDEWALK| 654667|\n",
      "|               OTHER| 251447|\n",
      "|PARKING LOT/GARAG...| 190306|\n",
      "|               ALLEY| 148400|\n",
      "|SCHOOL, PUBLIC, B...| 141207|\n",
      "|    RESIDENCE-GARAGE| 129669|\n",
      "|  SMALL RETAIL STORE| 116071|\n",
      "|RESIDENCE PORCH/H...| 115838|\n",
      "|VEHICLE NON-COMME...| 105868|\n",
      "|          RESTAURANT| 102429|\n",
      "|  GROCERY FOOD STORE|  85805|\n",
      "|    DEPARTMENT STORE|  81668|\n",
      "|         GAS STATION|  70392|\n",
      "|RESIDENTIAL YARD ...|  66772|\n",
      "|CHA PARKING LOT/G...|  55191|\n",
      "|       PARK PROPERTY|  51211|\n",
      "|COMMERCIAL / BUSI...|  48334|\n",
      "+--------------------+-------+\n",
      "only showing top 20 rows\n",
      "\n"
     ]
    }
   ],
   "source": [
    "df.groupBy(\"Location Description\").count().orderBy(desc(\"count\")).show()"
   ]
  },
  {
   "cell_type": "code",
   "execution_count": 10,
   "metadata": {},
   "outputs": [],
   "source": [
    "#Save to CSV\n",
    "df.groupBy(\"Location Description\").count().orderBy(desc(\"count\"))\\\n",
    "            .coalesce(1).write.format(\"csv\").options(header='true')\\\n",
    "            .save(\"/home/tri/Spark/ipnyb/output/bonus/Q1/\"+\"LocationDescription_Output_Count\")"
   ]
  },
  {
   "cell_type": "markdown",
   "metadata": {},
   "source": [
    "## (2) Output the most frequently occurred ‘Primary type‘ for each possible value of ‘Location description’, sorted in descending order of the frequency count."
   ]
  },
  {
   "cell_type": "code",
   "execution_count": 11,
   "metadata": {},
   "outputs": [
    {
     "name": "stdout",
     "output_type": "stream",
     "text": [
      "+-------------------+--------------------+------+\n",
      "|       Primary Type|Location Description| count|\n",
      "+-------------------+--------------------+------+\n",
      "|              THEFT|              STREET|381290|\n",
      "|    CRIMINAL DAMAGE|              STREET|274028|\n",
      "|            BATTERY|           RESIDENCE|253167|\n",
      "|          NARCOTICS|              STREET|250796|\n",
      "|MOTOR VEHICLE THEFT|              STREET|245073|\n",
      "|            BATTERY|           APARTMENT|237991|\n",
      "|          NARCOTICS|            SIDEWALK|221168|\n",
      "|            BATTERY|              STREET|215378|\n",
      "|      OTHER OFFENSE|           RESIDENCE|190297|\n",
      "|            BATTERY|            SIDEWALK|179071|\n",
      "|              THEFT|           RESIDENCE|146452|\n",
      "|    CRIMINAL DAMAGE|           RESIDENCE|143857|\n",
      "|           BURGLARY|           RESIDENCE|131131|\n",
      "|           BURGLARY|           APARTMENT|109488|\n",
      "|            ASSAULT|              STREET| 84918|\n",
      "|              THEFT|               OTHER| 79642|\n",
      "|    CRIMINAL DAMAGE|           APARTMENT| 77633|\n",
      "|            ROBBERY|              STREET| 77551|\n",
      "|            ROBBERY|            SIDEWALK| 77401|\n",
      "|            ASSAULT|           RESIDENCE| 70887|\n",
      "+-------------------+--------------------+------+\n",
      "only showing top 20 rows\n",
      "\n"
     ]
    }
   ],
   "source": [
    "df.groupBy(\"Primary Type\",\"Location Description\").count()\\\n",
    "            .orderBy(desc(\"count\")).show()"
   ]
  },
  {
   "cell_type": "code",
   "execution_count": 12,
   "metadata": {},
   "outputs": [],
   "source": [
    "#Save to CSV\n",
    "df.groupBy(\"Primary Type\",\"Location Description\").count().orderBy(desc(\"count\"))\\\n",
    "        .coalesce(1).write.format(\"csv\").options(header='true')\\\n",
    "        .save(\"/home/tri/Spark/ipnyb/output/bonus/Q2/\"+\"PTLD_Output_Count\")"
   ]
  },
  {
   "cell_type": "markdown",
   "metadata": {},
   "source": [
    "## (3) Output the most frequently occurred street name in the attribute ‘Block‘ for each ‘Primary type’, sorted in descending order of the frequency count. (You should remove the numbers in the ‘Block’ address of a street/avenue/boulevard)"
   ]
  },
  {
   "cell_type": "code",
   "execution_count": 13,
   "metadata": {},
   "outputs": [
    {
     "name": "stdout",
     "output_type": "stream",
     "text": [
      "+------------------+--------------------+-----+\n",
      "|      Primary Type|               Block|count|\n",
      "+------------------+--------------------+-----+\n",
      "|             THEFT|    001XX N STATE ST| 8361|\n",
      "|             THEFT|  076XX S CICERO AVE| 6751|\n",
      "|             THEFT|    0000X N STATE ST| 6572|\n",
      "|             THEFT|008XX N MICHIGAN AVE| 6311|\n",
      "|             THEFT|    100XX W OHARE ST| 5321|\n",
      "|     OTHER OFFENSE|    100XX W OHARE ST| 2573|\n",
      "|             THEFT|   046XX W NORTH AVE| 2468|\n",
      "|             THEFT|     001XX W 87TH ST| 2429|\n",
      "|         NARCOTICS| 033XX W FILLMORE ST| 2423|\n",
      "|             THEFT|085XX S COTTAGE G...| 2283|\n",
      "|             THEFT|    0000X S STATE ST| 2283|\n",
      "|             THEFT|006XX N MICHIGAN AVE| 2228|\n",
      "|             THEFT|  026XX N ELSTON AVE| 2176|\n",
      "|             THEFT|007XX N MICHIGAN AVE| 2129|\n",
      "|DECEPTIVE PRACTICE|    008XX N STATE ST| 2117|\n",
      "| CRIMINAL TRESPASS|    023XX S STATE ST| 2100|\n",
      "|             THEFT|     002XX W 87TH ST| 1918|\n",
      "|             THEFT|   017XX W HOWARD ST| 1911|\n",
      "|             THEFT|009XX N MICHIGAN AVE| 1843|\n",
      "|DECEPTIVE PRACTICE|     040XX W LAKE ST| 1840|\n",
      "+------------------+--------------------+-----+\n",
      "only showing top 20 rows\n",
      "\n"
     ]
    }
   ],
   "source": [
    "df.groupBy(\"Primary Type\",\"Block\").count().orderBy(desc(\"count\")).show()"
   ]
  },
  {
   "cell_type": "code",
   "execution_count": 14,
   "metadata": {},
   "outputs": [],
   "source": [
    "df.groupBy(\"Primary Type\",\"Block\").count().orderBy(desc(\"count\"))\\\n",
    "        .coalesce(1).write.format(\"csv\").options(header='true')\\\n",
    "        .save(\"/home/tri/Spark/ipnyb/output/bonus/Q3/\"+\"PTBl_Output_Count\")"
   ]
  },
  {
   "cell_type": "markdown",
   "metadata": {},
   "source": [
    "## [optional] (4) From the attribute ‘Date’, extract the time in hours and output the most frequently occurred hour for each ‘Primary type’ and ‘Location description’, sorted in descending order of the frequency count, respectively."
   ]
  },
  {
   "cell_type": "code",
   "execution_count": 15,
   "metadata": {},
   "outputs": [
    {
     "name": "stdout",
     "output_type": "stream",
     "text": [
      "root\n",
      " |-- Date: timestamp (nullable = true)\n",
      "\n"
     ]
    }
   ],
   "source": [
    "#change schema of date from string to timestamp -> 24 hours\n",
    "df2= df.withColumn(\"Date\", unix_timestamp(\"Date\", \"MM/dd/yyyy hh:mm:ss a\").cast(TimestampType()))\n",
    "df2.select(\"Date\").printSchema()   "
   ]
  },
  {
   "cell_type": "code",
   "execution_count": 16,
   "metadata": {},
   "outputs": [
    {
     "name": "stdout",
     "output_type": "stream",
     "text": [
      "+--------------------+\n",
      "|                Date|\n",
      "+--------------------+\n",
      "|03/18/2015 07:44:...|\n",
      "|03/18/2015 11:00:...|\n",
      "|03/18/2015 10:45:...|\n",
      "|03/18/2015 10:30:...|\n",
      "|03/18/2015 09:00:...|\n",
      "|03/18/2015 10:00:...|\n",
      "|03/18/2015 11:00:...|\n",
      "|03/18/2015 09:35:...|\n",
      "|03/18/2015 10:09:...|\n",
      "|03/18/2015 09:25:...|\n",
      "|03/18/2015 09:30:...|\n",
      "|03/15/2015 04:10:...|\n",
      "|03/18/2015 09:14:...|\n",
      "|03/18/2015 10:50:...|\n",
      "|03/18/2015 10:31:...|\n",
      "|03/18/2015 12:55:...|\n",
      "|03/18/2015 08:00:...|\n",
      "|03/18/2015 09:00:...|\n",
      "|03/18/2015 10:56:...|\n",
      "|03/18/2015 10:45:...|\n",
      "+--------------------+\n",
      "only showing top 20 rows\n",
      "\n"
     ]
    }
   ],
   "source": [
    "#Attribute item of Date with 12 hours\n",
    "df.select(\"Date\").show()"
   ]
  },
  {
   "cell_type": "code",
   "execution_count": 17,
   "metadata": {},
   "outputs": [
    {
     "name": "stdout",
     "output_type": "stream",
     "text": [
      "+-------------------+\n",
      "|               Date|\n",
      "+-------------------+\n",
      "|2015-03-18 19:44:00|\n",
      "|2015-03-18 23:00:00|\n",
      "|2015-03-18 22:45:00|\n",
      "|2015-03-18 22:30:00|\n",
      "|2015-03-18 21:00:00|\n",
      "|2015-03-18 22:00:00|\n",
      "|2015-03-18 23:00:00|\n",
      "|2015-03-18 21:35:00|\n",
      "|2015-03-18 22:09:00|\n",
      "|2015-03-18 21:25:00|\n",
      "|2015-03-18 21:30:00|\n",
      "|2015-03-15 16:10:00|\n",
      "|2015-03-18 21:14:00|\n",
      "|2015-03-18 22:50:00|\n",
      "|2015-03-18 22:31:00|\n",
      "|2015-03-18 12:55:00|\n",
      "|2015-03-18 20:00:00|\n",
      "|2015-03-18 21:00:00|\n",
      "|2015-03-18 22:56:00|\n",
      "|2015-03-18 22:45:00|\n",
      "+-------------------+\n",
      "only showing top 20 rows\n",
      "\n"
     ]
    }
   ],
   "source": [
    "#Attribute item of Date with 24 hours\n",
    "df2.select(\"Date\").show()"
   ]
  },
  {
   "cell_type": "markdown",
   "metadata": {},
   "source": [
    "#### Primary Type, Date"
   ]
  },
  {
   "cell_type": "code",
   "execution_count": 18,
   "metadata": {},
   "outputs": [
    {
     "name": "stdout",
     "output_type": "stream",
     "text": [
      "show Primary Tyoe count with Date(12Hours Format)\n",
      "+--------------------+--------------------+-----+\n",
      "|        Primary Type|                Date|count|\n",
      "+--------------------+--------------------+-----+\n",
      "|               THEFT|01/01/2008 12:01:...|  155|\n",
      "|               THEFT|01/01/2007 12:01:...|  133|\n",
      "|               THEFT|01/01/2006 12:01:...|  111|\n",
      "|               THEFT|01/01/2004 12:00:...|   91|\n",
      "|               THEFT|01/01/2003 12:01:...|   90|\n",
      "|               THEFT|01/01/2007 12:00:...|   90|\n",
      "|               THEFT|01/01/2005 12:01:...|   84|\n",
      "|               THEFT|01/01/2008 09:00:...|   83|\n",
      "|               THEFT|01/01/2003 12:00:...|   83|\n",
      "|               THEFT|01/01/2008 12:00:...|   77|\n",
      "|               THEFT|01/01/2004 12:01:...|   77|\n",
      "|               THEFT|01/01/2006 12:00:...|   73|\n",
      "|               THEFT|01/01/2009 12:01:...|   72|\n",
      "|               THEFT|01/01/2005 12:00:...|   71|\n",
      "|               THEFT|01/01/2001 12:00:...|   71|\n",
      "|               THEFT|01/01/2002 12:00:...|   68|\n",
      "|               THEFT|01/01/2005 09:00:...|   65|\n",
      "|               THEFT|01/01/2009 12:00:...|   64|\n",
      "|               THEFT|01/01/2006 09:00:...|   64|\n",
      "|OFFENSE INVOLVING...|01/01/2017 12:01:...|   62|\n",
      "+--------------------+--------------------+-----+\n",
      "only showing top 20 rows\n",
      "\n"
     ]
    }
   ],
   "source": [
    "print \"show Primary Tyoe count with Date(12Hours Format)\"\n",
    "df.groupBy(\"Primary Type\",\"Date\").count().orderBy(desc(\"count\")).show()"
   ]
  },
  {
   "cell_type": "code",
   "execution_count": 19,
   "metadata": {},
   "outputs": [
    {
     "name": "stdout",
     "output_type": "stream",
     "text": [
      "show Primary Type count with Date(24Hours Format)\n",
      "+--------------------+-------------------+-----+\n",
      "|        Primary Type|               Date|count|\n",
      "+--------------------+-------------------+-----+\n",
      "|               THEFT|2008-01-01 00:01:00|  155|\n",
      "|               THEFT|2007-01-01 00:01:00|  133|\n",
      "|               THEFT|2006-01-01 00:01:00|  111|\n",
      "|               THEFT|2004-01-01 00:00:00|   91|\n",
      "|               THEFT|2003-01-01 00:01:00|   90|\n",
      "|               THEFT|2007-01-01 00:00:00|   90|\n",
      "|               THEFT|2005-01-01 00:01:00|   84|\n",
      "|               THEFT|2003-01-01 00:00:00|   83|\n",
      "|               THEFT|2008-01-01 09:00:00|   83|\n",
      "|               THEFT|2004-01-01 00:01:00|   77|\n",
      "|               THEFT|2008-01-01 00:00:00|   77|\n",
      "|               THEFT|2006-01-01 00:00:00|   73|\n",
      "|               THEFT|2009-01-01 00:01:00|   72|\n",
      "|               THEFT|2001-01-01 00:00:00|   71|\n",
      "|               THEFT|2005-01-01 00:00:00|   71|\n",
      "|               THEFT|2002-01-01 00:00:00|   68|\n",
      "|               THEFT|2005-01-01 09:00:00|   65|\n",
      "|               THEFT|2006-01-01 09:00:00|   64|\n",
      "|               THEFT|2009-01-01 00:00:00|   64|\n",
      "|OFFENSE INVOLVING...|2016-01-01 00:01:00|   62|\n",
      "+--------------------+-------------------+-----+\n",
      "only showing top 20 rows\n",
      "\n"
     ]
    }
   ],
   "source": [
    "print \"show Primary Type count with Date(24Hours Format)\"\n",
    "df2.groupBy(\"Primary Type\",\"Date\").count().orderBy(desc(\"count\")).show()"
   ]
  },
  {
   "cell_type": "code",
   "execution_count": 20,
   "metadata": {},
   "outputs": [],
   "source": [
    "#Save CSV - Format 12Hours\n",
    "df.groupBy(\"Primary Type\",\"Date\").count().orderBy(desc(\"count\"))\\\n",
    "        .coalesce(1).write.format(\"csv\").options(header='true')\\\n",
    "        .save(\"/home/tri/Spark/ipnyb/output/bonus/Q4/\"+\"PTDate_Output_Count_12HoursFormat\")"
   ]
  },
  {
   "cell_type": "code",
   "execution_count": 21,
   "metadata": {},
   "outputs": [],
   "source": [
    "#Save CSV - Format 24Hours\n",
    "df2.groupBy(\"Primary Type\",\"Date\").count().orderBy(desc(\"count\"))\\\n",
    "        .withColumn(\"Date\",df2[\"Date\"].cast(StringType()))\\\n",
    "        .coalesce(1).write.format(\"csv\").options(header='true')\\\n",
    "        .save(\"/home/tri/Spark/ipnyb/output/bonus/Q4/\"+\"PTDate_Output_Count_24HoursFormat\")"
   ]
  },
  {
   "cell_type": "markdown",
   "metadata": {},
   "source": [
    "#### Location Description, Date"
   ]
  },
  {
   "cell_type": "code",
   "execution_count": 22,
   "metadata": {},
   "outputs": [
    {
     "name": "stdout",
     "output_type": "stream",
     "text": [
      "show Primary Tyoe count with Date(12Hours Format)\n",
      "+--------------------+--------------------+-----+\n",
      "|Location Description|                Date|count|\n",
      "+--------------------+--------------------+-----+\n",
      "|           RESIDENCE|01/01/2008 12:01:...|  191|\n",
      "|           RESIDENCE|01/01/2006 12:01:...|  159|\n",
      "|           RESIDENCE|01/01/2007 12:01:...|  151|\n",
      "|           RESIDENCE|01/01/2003 12:01:...|  134|\n",
      "|           RESIDENCE|01/01/2007 12:00:...|  133|\n",
      "|           RESIDENCE|01/01/2004 12:00:...|  132|\n",
      "|           RESIDENCE|01/01/2003 12:00:...|  129|\n",
      "|           RESIDENCE|01/01/2005 12:01:...|  127|\n",
      "|           RESIDENCE|01/01/2005 12:00:...|  125|\n",
      "|           RESIDENCE|01/01/2009 12:01:...|  121|\n",
      "|           RESIDENCE|01/01/2004 12:01:...|  119|\n",
      "|           RESIDENCE|01/01/2015 12:01:...|  116|\n",
      "|           RESIDENCE|01/01/2002 12:01:...|  114|\n",
      "|           RESIDENCE|01/01/2012 12:01:...|  110|\n",
      "|           RESIDENCE|01/01/2008 12:00:...|  108|\n",
      "|           RESIDENCE|01/01/2009 12:00:...|  105|\n",
      "|           RESIDENCE|01/01/2006 12:00:...|  104|\n",
      "|           RESIDENCE|01/01/2016 12:01:...|  101|\n",
      "|           RESIDENCE|01/01/2010 12:01:...|   99|\n",
      "|           RESIDENCE|01/01/2002 12:00:...|   99|\n",
      "+--------------------+--------------------+-----+\n",
      "only showing top 20 rows\n",
      "\n"
     ]
    }
   ],
   "source": [
    "print \"show Primary Tyoe count with Date(12Hours Format)\"\n",
    "df.groupBy(\"Location Description\",\"Date\").count().orderBy(desc(\"count\")).show()"
   ]
  },
  {
   "cell_type": "code",
   "execution_count": 23,
   "metadata": {
    "scrolled": true
   },
   "outputs": [
    {
     "name": "stdout",
     "output_type": "stream",
     "text": [
      "show Primary Tyoe count with Date(24Hours Format)\n",
      "+--------------------+-------------------+-----+\n",
      "|Location Description|               Date|count|\n",
      "+--------------------+-------------------+-----+\n",
      "|           RESIDENCE|2008-01-01 00:01:00|  191|\n",
      "|           RESIDENCE|2006-01-01 00:01:00|  159|\n",
      "|           RESIDENCE|2007-01-01 00:01:00|  151|\n",
      "|           RESIDENCE|2003-01-01 00:01:00|  134|\n",
      "|           RESIDENCE|2007-01-01 00:00:00|  133|\n",
      "|           RESIDENCE|2004-01-01 00:00:00|  132|\n",
      "|           RESIDENCE|2003-01-01 00:00:00|  129|\n",
      "|           RESIDENCE|2005-01-01 00:01:00|  127|\n",
      "|           RESIDENCE|2005-01-01 00:00:00|  125|\n",
      "|           RESIDENCE|2009-01-01 00:01:00|  121|\n",
      "|           RESIDENCE|2004-01-01 00:01:00|  119|\n",
      "|           RESIDENCE|2015-01-01 00:01:00|  116|\n",
      "|           RESIDENCE|2002-01-01 00:01:00|  114|\n",
      "|           RESIDENCE|2012-01-01 00:01:00|  110|\n",
      "|           RESIDENCE|2008-01-01 00:00:00|  108|\n",
      "|           RESIDENCE|2009-01-01 00:00:00|  105|\n",
      "|           RESIDENCE|2006-01-01 00:00:00|  104|\n",
      "|           RESIDENCE|2016-01-01 00:01:00|  101|\n",
      "|           RESIDENCE|2010-01-01 00:01:00|   99|\n",
      "|           RESIDENCE|2002-01-01 00:00:00|   99|\n",
      "+--------------------+-------------------+-----+\n",
      "only showing top 20 rows\n",
      "\n"
     ]
    }
   ],
   "source": [
    "print \"show Primary Tyoe count with Date(24Hours Format)\"\n",
    "df2.groupBy(\"Location Description\",\"Date\").count().orderBy(desc(\"count\")).show()"
   ]
  },
  {
   "cell_type": "code",
   "execution_count": 24,
   "metadata": {},
   "outputs": [],
   "source": [
    "#save to csv 12 hours format\n",
    "df.groupBy(\"Location Description\",\"Date\").count().orderBy(desc(\"count\"))\\\n",
    "        .coalesce(1).write.format(\"csv\").options(header='true')\\\n",
    "        .save(\"/home/tri/Spark/ipnyb/output/bonus/Q4/\"+\"LDDate_Output_Count_12hoursFormat\")"
   ]
  },
  {
   "cell_type": "code",
   "execution_count": 25,
   "metadata": {},
   "outputs": [],
   "source": [
    "#save to csv 24 hours format\n",
    "df2.groupBy(\"Location Description\",\"Date\").count().orderBy(desc(\"count\"))\\\n",
    "        .withColumn(\"Date\",df2[\"Date\"].cast(StringType()))\\\n",
    "        .coalesce(1).write.format(\"csv\").options(header='true')\\\n",
    "        .save(\"/home/tri/Spark/ipnyb/output/bonus/Q4/\"+\"LDDate_Output_Count_24HoursFormat\")"
   ]
  },
  {
   "cell_type": "markdown",
   "metadata": {},
   "source": [
    "#### References :\n",
    "- Apache Spark Guide Programming - https://spark.apache.org/docs/2.3.0/rdd-programming-guide.html"
   ]
  }
 ],
 "metadata": {
  "kernelspec": {
   "display_name": "Python 2",
   "language": "python",
   "name": "python2"
  },
  "language_info": {
   "codemirror_mode": {
    "name": "ipython",
    "version": 2
   },
   "file_extension": ".py",
   "mimetype": "text/x-python",
   "name": "python",
   "nbconvert_exporter": "python",
   "pygments_lexer": "ipython2",
   "version": "2.7.12"
  }
 },
 "nbformat": 4,
 "nbformat_minor": 2
}
