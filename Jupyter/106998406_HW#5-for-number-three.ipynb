{
 "cells": [
  {
   "cell_type": "markdown",
   "metadata": {},
   "source": [
    "## HW#5 (For Number 3\")\n",
    "\n",
    "### Name : Tri Wanda Septian (106998406), Anggara Aji Saputra (106998412)\n",
    "\n",
    "- Data: \n",
    "    - [Google web graph Data Set] from Stanford Large Network (SNAP) Dataset Collection\n",
    "    - The data was released in 2002 by Google as a part of Google Programming Contest\n",
    "    - Available at: http://snap.stanford.edu/data/web-Google.html \n",
    "- Format:\n",
    "    - A text file containing around 5 million lines \n",
    "    - Each line is a directed edge representing hyperlinks between nodes (web pages)\n",
    "    \n",
    "    FromNodeId ToNodeId\n",
    "    \n",
    "    …\n"
   ]
  },
  {
   "cell_type": "code",
   "execution_count": 1,
   "metadata": {},
   "outputs": [],
   "source": [
    "from pyspark import SparkContext, SparkConf\n",
    "from pyspark.sql import SQLContext\n",
    "#from pyspark.sql.types import IntegerType"
   ]
  },
  {
   "cell_type": "code",
   "execution_count": 2,
   "metadata": {},
   "outputs": [],
   "source": [
    "conf = SparkConf().setMaster(\"spark://sparklab1:7077\").setAppName(\"HW#5\")\n",
    "sc = SparkContext.getOrCreate(conf=conf)\n",
    "sqlContext=SQLContext(sc)"
   ]
  },
  {
   "cell_type": "code",
   "execution_count": 3,
   "metadata": {},
   "outputs": [
    {
     "data": {
      "text/html": [
       "\n",
       "        <div>\n",
       "            <p><b>SparkContext</b></p>\n",
       "\n",
       "            <p><a href=\"http://172.17.0.1:4040\">Spark UI</a></p>\n",
       "\n",
       "            <dl>\n",
       "              <dt>Version</dt>\n",
       "                <dd><code>v2.2.1</code></dd>\n",
       "              <dt>Master</dt>\n",
       "                <dd><code>spark://sparklab1:7077</code></dd>\n",
       "              <dt>AppName</dt>\n",
       "                <dd><code>PySparkShell</code></dd>\n",
       "            </dl>\n",
       "        </div>\n",
       "        "
      ],
      "text/plain": [
       "<SparkContext master=spark://sparklab1:7077 appName=PySparkShell>"
      ]
     },
     "execution_count": 3,
     "metadata": {},
     "output_type": "execute_result"
    }
   ],
   "source": [
    "sc"
   ]
  },
  {
   "cell_type": "code",
   "execution_count": 4,
   "metadata": {},
   "outputs": [],
   "source": [
    "raw_data = sc.textFile(\"/home/tri/Spark/dataset/web-Google.txt\",use_unicode=False)"
   ]
  },
  {
   "cell_type": "code",
   "execution_count": 5,
   "metadata": {},
   "outputs": [],
   "source": [
    "rdd = raw_data.map(lambda x:x.split(\"\\t\"))"
   ]
  },
  {
   "cell_type": "code",
   "execution_count": 6,
   "metadata": {},
   "outputs": [
    {
     "data": {
      "text/plain": [
       "[['FromNodeId', 'ToNodeId'],\n",
       " ['0', '11342'],\n",
       " ['0', '824020'],\n",
       " ['0', '867923'],\n",
       " ['0', '891835']]"
      ]
     },
     "execution_count": 6,
     "metadata": {},
     "output_type": "execute_result"
    }
   ],
   "source": [
    "rdd.take(5)"
   ]
  },
  {
   "cell_type": "code",
   "execution_count": 7,
   "metadata": {},
   "outputs": [
    {
     "data": {
      "text/plain": [
       "[[0, 11342], [0, 824020], [0, 867923], [0, 891835], [11342, 0]]"
      ]
     },
     "execution_count": 7,
     "metadata": {},
     "output_type": "execute_result"
    }
   ],
   "source": [
    "header = rdd.first()\n",
    "dtrdd = rdd.filter(lambda x:x != header).map(lambda x:[int(x[0]), int(x[1])])\n",
    "dtrdd.take(5)"
   ]
  },
  {
   "cell_type": "markdown",
   "metadata": {},
   "source": [
    "## (3) Design an algorithm that maintains the connectivity of two nodes in an efficient way. Given a node v, please output the list of nodes that v points to, and the list of nodes that points to v. "
   ]
  },
  {
   "cell_type": "code",
   "execution_count": 8,
   "metadata": {},
   "outputs": [
    {
     "name": "stdout",
     "output_type": "stream",
     "text": [
      "Please give a value for node v : 0\n"
     ]
    }
   ],
   "source": [
    "v = input(\"Please give a value for node v : \")"
   ]
  },
  {
   "cell_type": "code",
   "execution_count": 9,
   "metadata": {},
   "outputs": [
    {
     "name": "stdout",
     "output_type": "stream",
     "text": [
      "Given a node v is :  0\n",
      "List of nodes that v points to\n"
     ]
    },
    {
     "data": {
      "text/plain": [
       "[11342, 824020, 867923, 891835]"
      ]
     },
     "execution_count": 9,
     "metadata": {},
     "output_type": "execute_result"
    }
   ],
   "source": [
    "#given a node v, example v = input value from user, and output the list of nodes tha v point to\n",
    "print \"Given a node v is : \", v\n",
    "print (\"List of nodes that v points to\")#<ToNodeID><ToNodeID>\n",
    "vPointTo = dtrdd.filter(lambda x:x[0] == v).map(lambda x:[x[0], [x[1]]]).reduceByKey(lambda x, y:x + y).collect()[0][1]\n",
    "vPointTo"
   ]
  },
  {
   "cell_type": "code",
   "execution_count": 10,
   "metadata": {},
   "outputs": [],
   "source": [
    "import numpy as np\n",
    "np.savetxt(\"/home/tri/Spark/ipnyb/output/hw#5/Q3/vPointTo.txt\",vPointTo,fmt='%.0f')"
   ]
  },
  {
   "cell_type": "code",
   "execution_count": 11,
   "metadata": {},
   "outputs": [
    {
     "name": "stdout",
     "output_type": "stream",
     "text": [
      "('Given a node v is : ', 0)\n",
      "The list of nodes that points to v\n"
     ]
    },
    {
     "data": {
      "text/plain": [
       "[11342,\n",
       " 824020,\n",
       " 867923,\n",
       " 891835,\n",
       " 635343,\n",
       " 600594,\n",
       " 366080,\n",
       " 500627,\n",
       " 835220,\n",
       " 543999,\n",
       " 830675,\n",
       " 95656,\n",
       " 38716,\n",
       " 322178,\n",
       " 387543,\n",
       " 638706,\n",
       " 645018,\n",
       " 856657,\n",
       " 11927,\n",
       " 180285,\n",
       " 395856,\n",
       " 450550,\n",
       " 824375,\n",
       " 143557,\n",
       " 15901,\n",
       " 108113,\n",
       " 136131,\n",
       " 320258,\n",
       " 335113,\n",
       " 512812,\n",
       " 522510,\n",
       " 854209,\n",
       " 857934,\n",
       " 859247,\n",
       " 857527,\n",
       " 828241,\n",
       " 29546,\n",
       " 535748,\n",
       " 30281,\n",
       " 468354,\n",
       " 62929,\n",
       " 31300,\n",
       " 553829,\n",
       " 136593,\n",
       " 414038,\n",
       " 428822,\n",
       " 523684,\n",
       " 684417,\n",
       " 760842,\n",
       " 765654,\n",
       " 795148,\n",
       " 815602,\n",
       " 72432,\n",
       " 96460,\n",
       " 160114,\n",
       " 193375,\n",
       " 293748,\n",
       " 365423,\n",
       " 403327,\n",
       " 491156,\n",
       " 548921,\n",
       " 609210,\n",
       " 635163,\n",
       " 636635,\n",
       " 662982,\n",
       " 692491,\n",
       " 721453,\n",
       " 728417,\n",
       " 867959,\n",
       " 43929,\n",
       " 115472,\n",
       " 494671,\n",
       " 46274,\n",
       " 877381,\n",
       " 48192,\n",
       " 50822,\n",
       " 554441,\n",
       " 56910,\n",
       " 68314,\n",
       " 71878,\n",
       " 283476,\n",
       " 701455,\n",
       " 821092,\n",
       " 73631,\n",
       " 483644,\n",
       " 644912,\n",
       " 82205,\n",
       " 86094,\n",
       " 172576,\n",
       " 628457,\n",
       " 725962,\n",
       " 780663,\n",
       " 898319,\n",
       " 520734,\n",
       " 884543,\n",
       " 543606,\n",
       " 552209,\n",
       " 685926,\n",
       " 783408,\n",
       " 677789,\n",
       " 747971,\n",
       " 561337,\n",
       " 591577,\n",
       " 855011,\n",
       " 655101,\n",
       " 660210,\n",
       " 648346,\n",
       " 663429,\n",
       " 668427,\n",
       " 676560,\n",
       " 714886,\n",
       " 734490,\n",
       " 759371,\n",
       " 856353,\n",
       " 804858,\n",
       " 807267,\n",
       " 810019,\n",
       " 893714,\n",
       " 89773,\n",
       " 90128,\n",
       " 215810,\n",
       " 91807,\n",
       " 695578,\n",
       " 102341,\n",
       " 463078,\n",
       " 221809,\n",
       " 232480,\n",
       " 672426,\n",
       " 130954,\n",
       " 115267,\n",
       " 803972,\n",
       " 120076,\n",
       " 500542,\n",
       " 197743,\n",
       " 612032,\n",
       " 764527,\n",
       " 479137,\n",
       " 321961,\n",
       " 578649,\n",
       " 846213,\n",
       " 415030,\n",
       " 140656,\n",
       " 149447,\n",
       " 229705,\n",
       " 152996,\n",
       " 153741,\n",
       " 164521,\n",
       " 171857,\n",
       " 175010,\n",
       " 177218,\n",
       " 247548,\n",
       " 203547,\n",
       " 254529,\n",
       " 729080,\n",
       " 677007,\n",
       " 433516,\n",
       " 235849,\n",
       " 238717,\n",
       " 240416,\n",
       " 243975,\n",
       " 247439,\n",
       " 253223,\n",
       " 255023,\n",
       " 852419,\n",
       " 541385,\n",
       " 281963,\n",
       " 487182,\n",
       " 563600,\n",
       " 284059,\n",
       " 284174,\n",
       " 287468,\n",
       " 637361,\n",
       " 302284,\n",
       " 701087,\n",
       " 740065,\n",
       " 784413,\n",
       " 914941,\n",
       " 387341,\n",
       " 319393,\n",
       " 319593,\n",
       " 754862,\n",
       " 331282,\n",
       " 358935,\n",
       " 363129,\n",
       " 430049,\n",
       " 848683,\n",
       " 363712,\n",
       " 464225,\n",
       " 560047,\n",
       " 600249,\n",
       " 781646,\n",
       " 385830,\n",
       " 400909,\n",
       " 408222,\n",
       " 732803,\n",
       " 842900,\n",
       " 426863,\n",
       " 434138,\n",
       " 442324,\n",
       " 844885,\n",
       " 542276,\n",
       " 451592,\n",
       " 453275,\n",
       " 453636,\n",
       " 456978,\n",
       " 466045,\n",
       " 881700,\n",
       " 471915,\n",
       " 699910,\n",
       " 479014,\n",
       " 480435,\n",
       " 687914]"
      ]
     },
     "execution_count": 11,
     "metadata": {},
     "output_type": "execute_result"
    }
   ],
   "source": [
    "#and the list of nodes that points to v\n",
    "print (\"Given a node v is : \",v)\n",
    "print (\"The list of nodes that points to v\")#<FromNodeID><FromNodeID>\n",
    "PointToV = dtrdd.filter(lambda x:x[1] == v).map(lambda x:[x[1], [x[0]]]).reduceByKey(lambda x, y:x + y).collect()[0][1]\n",
    "PointToV"
   ]
  },
  {
   "cell_type": "code",
   "execution_count": 12,
   "metadata": {},
   "outputs": [],
   "source": [
    "np.savetxt(\"/home/tri/Spark/ipnyb/output/hw#5/Q3/PointToV.txt\",PointToV,fmt='%.0f')"
   ]
  }
 ],
 "metadata": {
  "kernelspec": {
   "display_name": "Python 2",
   "language": "python",
   "name": "python2"
  },
  "language_info": {
   "codemirror_mode": {
    "name": "ipython",
    "version": 2
   },
   "file_extension": ".py",
   "mimetype": "text/x-python",
   "name": "python",
   "nbconvert_exporter": "python",
   "pygments_lexer": "ipython2",
   "version": "2.7.12"
  }
 },
 "nbformat": 4,
 "nbformat_minor": 2
}
