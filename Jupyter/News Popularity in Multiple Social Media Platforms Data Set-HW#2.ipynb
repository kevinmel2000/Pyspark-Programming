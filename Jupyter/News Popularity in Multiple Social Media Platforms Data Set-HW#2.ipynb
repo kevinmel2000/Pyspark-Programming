{
 "cells": [
  {
   "cell_type": "markdown",
   "metadata": {},
   "source": [
    "# Big Data Mining: HW#2\n",
    "\n",
    "## Tri Wanda Septian (106998406), Anggara Aji Saputra (106998412)"
   ]
  },
  {
   "cell_type": "markdown",
   "metadata": {},
   "source": [
    "### Input data\n",
    "### Data: \n",
    "- [News Popularity in Multiple Social Media Platforms dataset] from UCI Machine Learning Repository\n",
    "- About 100,000 news items on four different topics: economy, microsoft, Obama, and Palestine, during November 2015 and July 2016\n",
    "- Available at<br>\n",
    "https://archive.ics.uci.edu/ml/datasets/News+Popularity+in+Multiple+Social+Media+Platforms \n",
    "\n",
    "### Format:\n",
    "- News data: 1 CSV file\n",
    "- Social feedback data: CSV files for 4 topics on 3 platforms\n",
    "\n",
    "### Attributes of News Data\n",
    "- IDLink (numeric): Unique identifier of news items \n",
    "- Title (string): Title of the news item according to the official media sources \n",
    "- Headline (string): Headline of the news item according to the official media sources \n",
    "- Source (string): Original news outlet that published the news item \n",
    "- Topic (string): Query topic used to obtain the items in the official media sources \n",
    "- PublishDate (timestamp): Date and time of the news items' publication \n",
    "- SentimentTitle (numeric): Sentiment score of the text in the news items' title \n",
    "- SentimentHeadline (numeric): Sentiment score of the text in the news items' headline \n",
    "- Facebook (numeric): Final value of the news items' popularity according to the social media source Facebook \n",
    "- GooglePlus (numeric): Final value of the news items' popularity according to the social media source Google+ \n",
    "- LinkedIn (numeric): Final value of the news items' popularity according to the social media source LinkedIn \n",
    "\n",
    "### Attributes of Social Feedback Data\n",
    "- IDLink (numeric): Unique identifier of news items \n",
    "- TS1 (numeric): Level of popularity in time slice 1 (0-20 minutes upon publication) \n",
    "- TS2 (numeric): Level of popularity in time slice 2 (20-40 minutes upon publication) \n",
    "- TS... (numeric): Level of popularity in time slice ... \n",
    "- TS144 (numeric): Final level of popularity after 2 days upon publication\n",
    "\n",
    "### Task Description\n",
    "### Subtasks\n",
    "- (30pt) (1) In news data, count the words in two fields: ‘Title’ and ‘Headline’ respectively, and list the most frequent words according to the term frequency in descending order, in total, per day, and per topic, respectively\n",
    "- (20pt) (2) In social feedback data, calculate the average popularity of each news by hour, and by day, respectively (for each platform)\n",
    "- (20pt) (3) In news data, calculate the sum and average sentiment score of each topic, respectively\n",
    "- (30pt) (4) From subtask (1), for the top-100 frequent words per topic in titles and headlines, calculate their co-occurrence matrices (100x100), respectively. Each entry in the matrix will contain the co-occurrence frequency in all news titles and headlines, respectively\n",
    "\n",
    "### Output Format\n",
    "- (1) 6 sorted lists of top-frequent words: {in total, per day, per topic}{for titles, headlines}\n",
    "    - Each line: <word> <count>\n",
    "    - For sorted lists per day/per topic, you can also separate them into individual lists by day/by topic \n",
    "        - That will make more numbers of sorted lists: 60*2 lists by day, and 4*2 by topic. \n",
    "- (2) 6 files: {by hour, by day} {3 platforms}\n",
    "    - Each line: <avg popularity>\n",
    "- (3) 8 values: {sum, avg} {4 topics}\n",
    "- (4) 8 100x100 matrices: {title, headline} {4 topics}\n",
    "    - Each entry mij in the matrix: the co-occurrence frequency of wi and wj"
   ]
  },
  {
   "cell_type": "markdown",
   "metadata": {},
   "source": [
    "## Specification"
   ]
  },
  {
   "cell_type": "code",
   "execution_count": 67,
   "metadata": {},
   "outputs": [],
   "source": [
    "import os\n",
    "import sys"
   ]
  },
  {
   "cell_type": "markdown",
   "metadata": {},
   "source": [
    "### Memory (RAM)"
   ]
  },
  {
   "cell_type": "code",
   "execution_count": 69,
   "metadata": {},
   "outputs": [
    {
     "name": "stdout",
     "output_type": "stream",
     "text": [
      "MemTotal:        8168740 kB\r\n",
      "MemFree:          189660 kB\r\n",
      "MemAvailable:     661772 kB\r\n",
      "Buffers:           94304 kB\r\n",
      "Cached:           713748 kB\r\n",
      "SwapCached:       128768 kB\r\n",
      "Active:          6040500 kB\r\n",
      "Inactive:        1543152 kB\r\n",
      "Active(anon):    5674432 kB\r\n",
      "Inactive(anon):  1269964 kB\r\n",
      "Active(file):     366068 kB\r\n",
      "Inactive(file):   273188 kB\r\n",
      "Unevictable:           0 kB\r\n",
      "Mlocked:               0 kB\r\n",
      "SwapTotal:       8385532 kB\r\n",
      "SwapFree:        7032116 kB\r\n",
      "Dirty:               296 kB\r\n",
      "Writeback:             0 kB\r\n",
      "AnonPages:       6767680 kB\r\n",
      "Mapped:           354944 kB\r\n",
      "Shmem:            168792 kB\r\n",
      "Slab:             200824 kB\r\n",
      "SReclaimable:     108528 kB\r\n",
      "SUnreclaim:        92296 kB\r\n",
      "KernelStack:       30400 kB\r\n",
      "PageTables:        74496 kB\r\n",
      "NFS_Unstable:          0 kB\r\n",
      "Bounce:                0 kB\r\n",
      "WritebackTmp:          0 kB\r\n",
      "CommitLimit:    12469900 kB\r\n",
      "Committed_AS:   18385036 kB\r\n",
      "VmallocTotal:   34359738367 kB\r\n",
      "VmallocUsed:           0 kB\r\n",
      "VmallocChunk:          0 kB\r\n",
      "HardwareCorrupted:     0 kB\r\n",
      "AnonHugePages:         0 kB\r\n",
      "ShmemHugePages:        0 kB\r\n",
      "ShmemPmdMapped:        0 kB\r\n",
      "CmaTotal:              0 kB\r\n",
      "CmaFree:               0 kB\r\n",
      "HugePages_Total:       0\r\n",
      "HugePages_Free:        0\r\n",
      "HugePages_Rsvd:        0\r\n",
      "HugePages_Surp:        0\r\n",
      "Hugepagesize:       2048 kB\r\n",
      "DirectMap4k:      229312 kB\r\n",
      "DirectMap2M:     8159232 kB\r\n",
      "DirectMap1G:     2097152 kB\r\n"
     ]
    }
   ],
   "source": [
    "%cat /proc/meminfo"
   ]
  },
  {
   "cell_type": "markdown",
   "metadata": {},
   "source": [
    "### CPU"
   ]
  },
  {
   "cell_type": "code",
   "execution_count": 70,
   "metadata": {},
   "outputs": [
    {
     "name": "stdout",
     "output_type": "stream",
     "text": [
      "processor\t: 0\r\n",
      "vendor_id\t: GenuineIntel\r\n",
      "cpu family\t: 6\r\n",
      "model\t\t: 63\r\n",
      "model name\t: Intel(R) Xeon(R) CPU E5-2620 v3 @ 2.40GHz\r\n",
      "stepping\t: 2\r\n",
      "microcode\t: 0x35\r\n",
      "cpu MHz\t\t: 2397.223\r\n",
      "cache size\t: 15360 KB\r\n",
      "physical id\t: 0\r\n",
      "siblings\t: 1\r\n",
      "core id\t\t: 0\r\n",
      "cpu cores\t: 1\r\n",
      "apicid\t\t: 0\r\n",
      "initial apicid\t: 0\r\n",
      "fpu\t\t: yes\r\n",
      "fpu_exception\t: yes\r\n",
      "cpuid level\t: 13\r\n",
      "wp\t\t: yes\r\n",
      "flags\t\t: fpu vme de pse tsc msr pae mce cx8 apic sep mtrr pge mca cmov pat pse36 clflush dts mmx fxsr sse sse2 ss syscall nx pdpe1gb rdtscp lm constant_tsc arch_perfmon pebs bts nopl xtopology tsc_reliable nonstop_tsc cpuid pni pclmulqdq ssse3 fma cx16 pcid sse4_1 sse4_2 x2apic movbe popcnt tsc_deadline_timer aes xsave avx f16c rdrand hypervisor lahf_lm abm cpuid_fault invpcid_single pti retpoline fsgsbase tsc_adjust bmi1 avx2 smep bmi2 invpcid xsaveopt arat\r\n",
      "bugs\t\t: cpu_meltdown spectre_v1 spectre_v2\r\n",
      "bogomips\t: 4794.44\r\n",
      "clflush size\t: 64\r\n",
      "cache_alignment\t: 64\r\n",
      "address sizes\t: 43 bits physical, 48 bits virtual\r\n",
      "power management:\r\n",
      "\r\n",
      "processor\t: 1\r\n",
      "vendor_id\t: GenuineIntel\r\n",
      "cpu family\t: 6\r\n",
      "model\t\t: 63\r\n",
      "model name\t: Intel(R) Xeon(R) CPU E5-2620 v3 @ 2.40GHz\r\n",
      "stepping\t: 2\r\n",
      "microcode\t: 0x35\r\n",
      "cpu MHz\t\t: 2397.223\r\n",
      "cache size\t: 15360 KB\r\n",
      "physical id\t: 2\r\n",
      "siblings\t: 1\r\n",
      "core id\t\t: 0\r\n",
      "cpu cores\t: 1\r\n",
      "apicid\t\t: 2\r\n",
      "initial apicid\t: 2\r\n",
      "fpu\t\t: yes\r\n",
      "fpu_exception\t: yes\r\n",
      "cpuid level\t: 13\r\n",
      "wp\t\t: yes\r\n",
      "flags\t\t: fpu vme de pse tsc msr pae mce cx8 apic sep mtrr pge mca cmov pat pse36 clflush dts mmx fxsr sse sse2 ss syscall nx pdpe1gb rdtscp lm constant_tsc arch_perfmon pebs bts nopl xtopology tsc_reliable nonstop_tsc cpuid pni pclmulqdq ssse3 fma cx16 pcid sse4_1 sse4_2 x2apic movbe popcnt tsc_deadline_timer aes xsave avx f16c rdrand hypervisor lahf_lm abm cpuid_fault invpcid_single pti retpoline fsgsbase tsc_adjust bmi1 avx2 smep bmi2 invpcid xsaveopt arat\r\n",
      "bugs\t\t: cpu_meltdown spectre_v1 spectre_v2\r\n",
      "bogomips\t: 4794.44\r\n",
      "clflush size\t: 64\r\n",
      "cache_alignment\t: 64\r\n",
      "address sizes\t: 43 bits physical, 48 bits virtual\r\n",
      "power management:\r\n",
      "\r\n",
      "processor\t: 2\r\n",
      "vendor_id\t: GenuineIntel\r\n",
      "cpu family\t: 6\r\n",
      "model\t\t: 63\r\n",
      "model name\t: Intel(R) Xeon(R) CPU E5-2620 v3 @ 2.40GHz\r\n",
      "stepping\t: 2\r\n",
      "microcode\t: 0x35\r\n",
      "cpu MHz\t\t: 2397.223\r\n",
      "cache size\t: 15360 KB\r\n",
      "physical id\t: 4\r\n",
      "siblings\t: 1\r\n",
      "core id\t\t: 0\r\n",
      "cpu cores\t: 1\r\n",
      "apicid\t\t: 4\r\n",
      "initial apicid\t: 4\r\n",
      "fpu\t\t: yes\r\n",
      "fpu_exception\t: yes\r\n",
      "cpuid level\t: 13\r\n",
      "wp\t\t: yes\r\n",
      "flags\t\t: fpu vme de pse tsc msr pae mce cx8 apic sep mtrr pge mca cmov pat pse36 clflush dts mmx fxsr sse sse2 ss syscall nx pdpe1gb rdtscp lm constant_tsc arch_perfmon pebs bts nopl xtopology tsc_reliable nonstop_tsc cpuid pni pclmulqdq ssse3 fma cx16 pcid sse4_1 sse4_2 x2apic movbe popcnt tsc_deadline_timer aes xsave avx f16c rdrand hypervisor lahf_lm abm cpuid_fault invpcid_single pti retpoline fsgsbase tsc_adjust bmi1 avx2 smep bmi2 invpcid xsaveopt arat\r\n",
      "bugs\t\t: cpu_meltdown spectre_v1 spectre_v2\r\n",
      "bogomips\t: 4794.44\r\n",
      "clflush size\t: 64\r\n",
      "cache_alignment\t: 64\r\n",
      "address sizes\t: 43 bits physical, 48 bits virtual\r\n",
      "power management:\r\n",
      "\r\n",
      "processor\t: 3\r\n",
      "vendor_id\t: GenuineIntel\r\n",
      "cpu family\t: 6\r\n",
      "model\t\t: 63\r\n",
      "model name\t: Intel(R) Xeon(R) CPU E5-2620 v3 @ 2.40GHz\r\n",
      "stepping\t: 2\r\n",
      "microcode\t: 0x35\r\n",
      "cpu MHz\t\t: 2397.223\r\n",
      "cache size\t: 15360 KB\r\n",
      "physical id\t: 6\r\n",
      "siblings\t: 1\r\n",
      "core id\t\t: 0\r\n",
      "cpu cores\t: 1\r\n",
      "apicid\t\t: 6\r\n",
      "initial apicid\t: 6\r\n",
      "fpu\t\t: yes\r\n",
      "fpu_exception\t: yes\r\n",
      "cpuid level\t: 13\r\n",
      "wp\t\t: yes\r\n",
      "flags\t\t: fpu vme de pse tsc msr pae mce cx8 apic sep mtrr pge mca cmov pat pse36 clflush dts mmx fxsr sse sse2 ss syscall nx pdpe1gb rdtscp lm constant_tsc arch_perfmon pebs bts nopl xtopology tsc_reliable nonstop_tsc cpuid pni pclmulqdq ssse3 fma cx16 pcid sse4_1 sse4_2 x2apic movbe popcnt tsc_deadline_timer aes xsave avx f16c rdrand hypervisor lahf_lm abm cpuid_fault invpcid_single pti retpoline fsgsbase tsc_adjust bmi1 avx2 smep bmi2 invpcid xsaveopt arat\r\n",
      "bugs\t\t: cpu_meltdown spectre_v1 spectre_v2\r\n",
      "bogomips\t: 4794.44\r\n",
      "clflush size\t: 64\r\n",
      "cache_alignment\t: 64\r\n",
      "address sizes\t: 43 bits physical, 48 bits virtual\r\n",
      "power management:\r\n",
      "\r\n"
     ]
    }
   ],
   "source": [
    "%cat /proc/cpuinfo"
   ]
  },
  {
   "cell_type": "markdown",
   "metadata": {},
   "source": [
    "### Operating System"
   ]
  },
  {
   "cell_type": "code",
   "execution_count": 71,
   "metadata": {
    "scrolled": true
   },
   "outputs": [
    {
     "name": "stdout",
     "output_type": "stream",
     "text": [
      "DISTRIB_ID=Ubuntu\r\n",
      "DISTRIB_RELEASE=16.04\r\n",
      "DISTRIB_CODENAME=xenial\r\n",
      "DISTRIB_DESCRIPTION=\"Ubuntu 16.04.4 LTS\"\r\n"
     ]
    }
   ],
   "source": [
    "%cat /etc/lsb-release"
   ]
  },
  {
   "cell_type": "markdown",
   "metadata": {},
   "source": [
    "### Spark Setup "
   ]
  },
  {
   "cell_type": "markdown",
   "metadata": {},
   "source": [
    "pyspark.sql.SparkSession Main entry point for DataFrame and SQL functionality."
   ]
  },
  {
   "cell_type": "code",
   "execution_count": 1,
   "metadata": {},
   "outputs": [],
   "source": [
    "from pyspark.sql import SparkSession"
   ]
  },
  {
   "cell_type": "markdown",
   "metadata": {},
   "source": [
    "Builder for SparkSession.\n",
    "\n",
    "appName(name)\n",
    "\n",
    "Sets a name for the application, which will be shown in the Spark web UI.\n",
    "If no application name is set, a randomly generated name will be used.\n",
    "Parameters:\tname – an application name\n",
    "\n",
    "getOrCreate()\n",
    "\n",
    "Gets an existing SparkSession or, if there is no existing one, creates a new one based on the options set in this builder.\n",
    "\n",
    "This method first checks whether there is a valid global default SparkSession, and if yes, return that one. If no valid global default SparkSession exists, the method creates a new SparkSession and assigns the newly created SparkSession as the global default."
   ]
  },
  {
   "cell_type": "code",
   "execution_count": 2,
   "metadata": {},
   "outputs": [],
   "source": [
    "spark = SparkSession.builder.appName(\"HW#2\").getOrCreate()"
   ]
  },
  {
   "cell_type": "code",
   "execution_count": 6,
   "metadata": {
    "scrolled": true
   },
   "outputs": [
    {
     "data": {
      "text/html": [
       "\n",
       "            <div>\n",
       "                <p><b>SparkSession - hive</b></p>\n",
       "                \n",
       "        <div>\n",
       "            <p><b>SparkContext</b></p>\n",
       "\n",
       "            <p><a href=\"http://172.17.0.1:4040\">Spark UI</a></p>\n",
       "\n",
       "            <dl>\n",
       "              <dt>Version</dt>\n",
       "                <dd><code>v2.2.1</code></dd>\n",
       "              <dt>Master</dt>\n",
       "                <dd><code>spark://sparklab1:7077</code></dd>\n",
       "              <dt>AppName</dt>\n",
       "                <dd><code>PySparkShell</code></dd>\n",
       "            </dl>\n",
       "        </div>\n",
       "        \n",
       "            </div>\n",
       "        "
      ],
      "text/plain": [
       "<pyspark.sql.session.SparkSession at 0x7f1dd3ad5950>"
      ]
     },
     "execution_count": 6,
     "metadata": {},
     "output_type": "execute_result"
    }
   ],
   "source": [
    "spark"
   ]
  },
  {
   "cell_type": "markdown",
   "metadata": {},
   "source": [
    "### Load News_Final.csv files dataset from hdfs\n",
    "hdfs url : hdfs://tri-virtual-machine:9000"
   ]
  },
  {
   "cell_type": "code",
   "execution_count": 3,
   "metadata": {},
   "outputs": [],
   "source": [
    "data = spark.read.csv(\"hdfs://tri-virtual-machine:9000/user/tri/News_Final.csv\", header = True, inferSchema = True)"
   ]
  },
  {
   "cell_type": "markdown",
   "metadata": {},
   "source": [
    "Print the schema in a tree format"
   ]
  },
  {
   "cell_type": "code",
   "execution_count": 4,
   "metadata": {
    "scrolled": false
   },
   "outputs": [
    {
     "name": "stdout",
     "output_type": "stream",
     "text": [
      "root\n",
      " |-- IDLink: decimal(10,0) (nullable = true)\n",
      " |-- Title: string (nullable = true)\n",
      " |-- Headline: string (nullable = true)\n",
      " |-- Source: string (nullable = true)\n",
      " |-- Topic: string (nullable = true)\n",
      " |-- PublishDate: string (nullable = true)\n",
      " |-- SentimentTitle: string (nullable = true)\n",
      " |-- SentimentHeadline: string (nullable = true)\n",
      " |-- Facebook: string (nullable = true)\n",
      " |-- GooglePlus: string (nullable = true)\n",
      " |-- LinkedIn: string (nullable = true)\n",
      "\n"
     ]
    }
   ],
   "source": [
    "data.printSchema()"
   ]
  },
  {
   "cell_type": "markdown",
   "metadata": {},
   "source": [
    "### Show the dataset"
   ]
  },
  {
   "cell_type": "code",
   "execution_count": 7,
   "metadata": {
    "scrolled": true
   },
   "outputs": [
    {
     "name": "stdout",
     "output_type": "stream",
     "text": [
      "+------+--------------------+--------------------+--------------------+---------+-------------------+-------------------+--------------------+--------+----------+--------+\n",
      "|IDLink|               Title|            Headline|              Source|    Topic|        PublishDate|     SentimentTitle|   SentimentHeadline|Facebook|GooglePlus|LinkedIn|\n",
      "+------+--------------------+--------------------+--------------------+---------+-------------------+-------------------+--------------------+--------+----------+--------+\n",
      "| 99248|Obama Lays Wreath...|Obama Lays Wreath...|           USA TODAY|    obama|2002-04-02 00:00:00|                  0| -0.0533001790889026|      -1|        -1|      -1|\n",
      "| 10423|A Look at the Hea...|Tim Haywood, inve...|           Bloomberg|  economy|2008-09-20 00:00:00|  0.208333333333333|  -0.156385810542806|      -1|        -1|      -1|\n",
      "| 18828|Nouriel Roubini: ...|Nouriel Roubini, ...|           Bloomberg|  economy|2012-01-28 00:00:00| -0.425210032135381|   0.139754248593737|      -1|        -1|      -1|\n",
      "| 27788|Finland GDP Expan...|Finland's economy...|            RTT News|  economy|2015-03-01 00:06:00|                  0|  0.0260643017571343|      -1|        -1|      -1|\n",
      "| 27789|Tourism, govt spe...|Tourism and publi...|The Nation - Thai...|  economy|2015-03-01 00:11:00|                  0|   0.141084456488315|      -1|        -1|      -1|\n",
      "| 27790|Intellitec Soluti...|Over 100 attendee...|               PRWeb|microsoft|2015-03-01 00:19:00|-0.0753778361444409|  0.0367727935198561|      -1|        -1|      -1|\n",
      "| 80690| Monday, 29 Feb 2016|RAMALLAH, Februar...|                null|palestine|2016-02-28 14:03:00|                  0|-0.00590569489076917|       0|         0|       0|\n",
      "| 80762|Obama, stars pay ...|First lady Michel...|      Coast Reporter|    obama|2015-03-01 00:45:00| 0.0833333333333333|   0.103002756765217|      -1|        -1|      -1|\n",
      "| 80771|Fire claims more ...|A Hancock County ...|   WTHR Indianapolis|palestine|2015-03-01 01:20:00| -0.173925271309261| -0.0501846917841854|      -1|        -1|      -1|\n",
      "| 27803|Microsoft's new W...|New Delhi, Feb.29...|          New Kerala|microsoft|2015-03-01 01:32:00|-0.0595362090259799| -0.0817150563075766|      -1|        -1|      -1|\n",
      "| 27813|Microsoft Project...|Microsoft may hav...|           SlashGear|microsoft|2015-03-01 02:14:00|                  0| 0.00254994083794926|      -1|        -1|      -1|\n",
      "| 27812|Microsoft sneaks ...|The platform batt...|        The Register|microsoft|2015-03-01 02:15:00|                  0|  0.0526702630059281|      -1|        -1|      -1|\n",
      "| 27838|Greek economy gro...|Greece's economy ...|Reuters via Yahoo...|  economy|2015-03-01 02:16:00|                  0|  -0.375259329232792|      -1|        -1|      -1|\n",
      "| 27811|Big data and the ...|Big data analytic...|     Information Age|  economy|2015-03-01 02:18:00| 0.0632049365526906|  0.0389861416984116|      -1|        -1|      -1|\n",
      "| 27814|HoloLens dev edit...|Microsoft’s AR he...|               Metro|microsoft|2015-03-01 02:18:00|                  0|  0.0794336845206687|      -1|        -1|      -1|\n",
      "| 27823|Microsoft Word fo...|What is A + B? We...|         Macworld UK|microsoft|2015-03-01 02:54:00|-0.0238833973016124| -0.0322748612183951|      -1|        -1|      -1|\n",
      "| 27827|Microsoft Band 2 ...|The Microsoft Ban...|           SlashGear|microsoft|2015-03-01 03:10:00|-0.0708683386892301|                   0|      -1|        -1|      -1|\n",
      "| 27828|Microsoft prepare...|It seems that Mic...|           TechRadar|microsoft|2015-03-01 03:10:00|                  0|        0.0013671875|      -1|        -1|      -1|\n",
      "| 27826|Greek economy shr...|Greece's economy ...|Reuters via Yahoo...|  economy|2015-03-01 03:15:00|-0.0856450199628935| -0.0995312715398377|      -1|        -1|      -1|\n",
      "| 27839|Sweden's economy ...|Sweden's economy ...|Business Insider ...|  economy|2015-03-01 03:15:00|                  0|  -0.014173667737846|      -1|        -1|      -1|\n",
      "+------+--------------------+--------------------+--------------------+---------+-------------------+-------------------+--------------------+--------+----------+--------+\n",
      "only showing top 20 rows\n",
      "\n"
     ]
    }
   ],
   "source": [
    "data.show()"
   ]
  },
  {
   "cell_type": "markdown",
   "metadata": {},
   "source": [
    "### Show \"Title\" and \"Headline\" from dataset\n",
    "\n",
    "select(*cols)\n",
    "\n",
    "Projects a set of expressions and returns a new DataFrame.\n",
    "\n",
    "Parameters:\tcols – list of column names (string) or expressions (Column). If one of the column names is ‘*’, that column is expanded to include all columns in the current DataFrame"
   ]
  },
  {
   "cell_type": "code",
   "execution_count": 8,
   "metadata": {
    "scrolled": true
   },
   "outputs": [
    {
     "name": "stdout",
     "output_type": "stream",
     "text": [
      "+--------------------+--------------------+\n",
      "|               Title|            Headline|\n",
      "+--------------------+--------------------+\n",
      "|Obama Lays Wreath...|Obama Lays Wreath...|\n",
      "|A Look at the Hea...|Tim Haywood, inve...|\n",
      "|Nouriel Roubini: ...|Nouriel Roubini, ...|\n",
      "|Finland GDP Expan...|Finland's economy...|\n",
      "|Tourism, govt spe...|Tourism and publi...|\n",
      "|Intellitec Soluti...|Over 100 attendee...|\n",
      "| Monday, 29 Feb 2016|RAMALLAH, Februar...|\n",
      "|Obama, stars pay ...|First lady Michel...|\n",
      "|Fire claims more ...|A Hancock County ...|\n",
      "|Microsoft's new W...|New Delhi, Feb.29...|\n",
      "|Microsoft Project...|Microsoft may hav...|\n",
      "|Microsoft sneaks ...|The platform batt...|\n",
      "|Greek economy gro...|Greece's economy ...|\n",
      "|Big data and the ...|Big data analytic...|\n",
      "|HoloLens dev edit...|Microsoft’s AR he...|\n",
      "|Microsoft Word fo...|What is A + B? We...|\n",
      "|Microsoft Band 2 ...|The Microsoft Ban...|\n",
      "|Microsoft prepare...|It seems that Mic...|\n",
      "|Greek economy shr...|Greece's economy ...|\n",
      "|Sweden's economy ...|Sweden's economy ...|\n",
      "+--------------------+--------------------+\n",
      "only showing top 20 rows\n",
      "\n"
     ]
    }
   ],
   "source": [
    "data.select(\"Title\",\"Headline\").show()"
   ]
  },
  {
   "cell_type": "markdown",
   "metadata": {},
   "source": [
    "### Count by \"Title\"\n",
    "\n",
    "groupBy(*cols)\n",
    "\n",
    "Groups the DataFrame using the specified columns, so we can run aggregation on them. See GroupedData for all the available aggregate functions.\n",
    "\n",
    "count()\n",
    "\n",
    "Returns the number of rows in this DataFrame.\n"
   ]
  },
  {
   "cell_type": "code",
   "execution_count": 9,
   "metadata": {
    "scrolled": true
   },
   "outputs": [
    {
     "name": "stdout",
     "output_type": "stream",
     "text": [
      "+--------------------+-----+\n",
      "|               Title|count|\n",
      "+--------------------+-----+\n",
      "| Business Highlights|   37|\n",
      "|        ALSO IN News|   23|\n",
      "|After Palestine t...|   23|\n",
      "|5 Things to Know ...|   19|\n",
      "|Obama honors Conn...|   17|\n",
      "|Indonesia leader ...|   16|\n",
      "|Woman, 4 grandchi...|   15|\n",
      "|Microsoft's secre...|   14|\n",
      "|Obama praises Nan...|   13|\n",
      "|The Latest: Flood...|   13|\n",
      "|Brexit vote adds ...|   13|\n",
      "|Prospects still s...|   13|\n",
      "|Windows 10 releas...|   12|\n",
      "|Police identify P...|   12|\n",
      "|Obama wants $4B t...|   12|\n",
      "|Economy or first ...|   12|\n",
      "|With HoloLens, Mi...|   12|\n",
      "|Obama says North ...|   12|\n",
      "|The Latest: Cruz ...|   11|\n",
      "|Obama signs bill ...|   11|\n",
      "+--------------------+-----+\n",
      "only showing top 20 rows\n",
      "\n"
     ]
    }
   ],
   "source": [
    "data.groupBy(\"Title\").count().sort('count', ascending=False).show()"
   ]
  },
  {
   "cell_type": "markdown",
   "metadata": {},
   "source": [
    "### Count by \"Headline\""
   ]
  },
  {
   "cell_type": "code",
   "execution_count": 72,
   "metadata": {
    "scrolled": true
   },
   "outputs": [
    {
     "name": "stdout",
     "output_type": "stream",
     "text": [
      "+--------------------+-----+\n",
      "|            Headline|count|\n",
      "+--------------------+-----+\n",
      "|\"\"\"\"\"\"\"Microsoft ...|   21|\n",
      "|Read full story f...|   18|\n",
      "|                null|   15|\n",
      "|The views express...|   13|\n",
      "|President Obama o...|   11|\n",
      "|BETHLEHEM, March ...|   11|\n",
      "|The court is weig...|   11|\n",
      "|The family of a P...|   10|\n",
      "|In 2014, Palestin...|   10|\n",
      "|Police have ident...|    9|\n",
      "|Lisa Asberry Davi...|    9|\n",
      "|President Barack ...|    9|\n",
      "|The Creighton Eco...|    9|\n",
      "|Protecting his si...|    8|\n",
      "|Ironically, Abbas...|    8|\n",
      "|With fresh fricti...|    8|\n",
      "|RAMALLAH, March 1...|    8|\n",
      "|President Obama a...|    8|\n",
      "|Boris Johnson's P...|    8|\n",
      "|RAMALLAH, March 3...|    8|\n",
      "+--------------------+-----+\n",
      "only showing top 20 rows\n",
      "\n"
     ]
    }
   ],
   "source": [
    "data.groupBy(\"Headline\").count().sort('count', ascending=False).show()"
   ]
  },
  {
   "cell_type": "markdown",
   "metadata": {},
   "source": [
    "### Tokenizer\n",
    "Tokenization is the process of taking text (such as a sentence) and breaking it into individual terms (usually words). A simple Tokenizer class provides this functionality. The example below shows how to split sentences into sequences of words."
   ]
  },
  {
   "cell_type": "markdown",
   "metadata": {},
   "source": [
    "pyspark.sql.functions List of built-in functions available for DataFrame."
   ]
  },
  {
   "cell_type": "code",
   "execution_count": 19,
   "metadata": {},
   "outputs": [],
   "source": [
    "import pyspark.sql.functions as F\n",
    "from pyspark.ml.feature import Tokenizer"
   ]
  },
  {
   "cell_type": "markdown",
   "metadata": {},
   "source": [
    "split sentences in \"Title\" into sequences of words"
   ]
  },
  {
   "cell_type": "code",
   "execution_count": 54,
   "metadata": {},
   "outputs": [
    {
     "name": "stdout",
     "output_type": "stream",
     "text": [
      "+--------------------+--------------------+\n",
      "|               Title|    Tokenizer_Output|\n",
      "+--------------------+--------------------+\n",
      "|Obama Lays Wreath...|[obama, lays, wre...|\n",
      "|A Look at the Hea...|[a, look, at, the...|\n",
      "|Nouriel Roubini: ...|[nouriel, roubini...|\n",
      "|Finland GDP Expan...|[finland, gdp, ex...|\n",
      "|Tourism, govt spe...|[tourism,, govt, ...|\n",
      "|Intellitec Soluti...|[intellitec, solu...|\n",
      "| Monday, 29 Feb 2016|[monday,, 29, feb...|\n",
      "|Obama, stars pay ...|[obama,, stars, p...|\n",
      "|Fire claims more ...|[fire, claims, mo...|\n",
      "|Microsoft's new W...|[microsoft's, new...|\n",
      "|Microsoft Project...|[microsoft, proje...|\n",
      "|Microsoft sneaks ...|[microsoft, sneak...|\n",
      "|Greek economy gro...|[greek, economy, ...|\n",
      "|Big data and the ...|[big, data, and, ...|\n",
      "|HoloLens dev edit...|[hololens, dev, e...|\n",
      "|Microsoft Word fo...|[microsoft, word,...|\n",
      "|Microsoft Band 2 ...|[microsoft, band,...|\n",
      "|Microsoft prepare...|[microsoft, prepa...|\n",
      "|Greek economy shr...|[greek, economy, ...|\n",
      "|Sweden's economy ...|[sweden's, econom...|\n",
      "+--------------------+--------------------+\n",
      "only showing top 20 rows\n",
      "\n"
     ]
    }
   ],
   "source": [
    "tok_title_wc = Tokenizer(inputCol=\"Title\",outputCol=\"Tokenizer_Output\")\n",
    "data_tok_title_wc = tok_title_wc.transform(data)\n",
    "data_tok_title_wc.select(\"Title\",\"Tokenizer_Output\").show()"
   ]
  },
  {
   "cell_type": "code",
   "execution_count": 50,
   "metadata": {},
   "outputs": [
    {
     "name": "stdout",
     "output_type": "stream",
     "text": [
      "+--------------------+--------------------+\n",
      "|            Headline|    Tokenizer_Output|\n",
      "+--------------------+--------------------+\n",
      "|Obama Lays Wreath...|[obama, lays, wre...|\n",
      "|Tim Haywood, inve...|[tim, haywood,, i...|\n",
      "|Nouriel Roubini, ...|[nouriel, roubini...|\n",
      "|Finland's economy...|[finland's, econo...|\n",
      "|Tourism and publi...|[tourism, and, pu...|\n",
      "|Over 100 attendee...|[over, 100, atten...|\n",
      "|RAMALLAH, Februar...|[ramallah,, febru...|\n",
      "|First lady Michel...|[first, lady, mic...|\n",
      "|A Hancock County ...|[a, hancock, coun...|\n",
      "|New Delhi, Feb.29...|[new, delhi,, feb...|\n",
      "|Microsoft may hav...|[microsoft, may, ...|\n",
      "|The platform batt...|[the, platform, b...|\n",
      "|Greece's economy ...|[greece's, econom...|\n",
      "|Big data analytic...|[big, data, analy...|\n",
      "|Microsoft’s AR he...|[microsoft’s, ar,...|\n",
      "|What is A + B? We...|[what, is, a, +, ...|\n",
      "|The Microsoft Ban...|[the, microsoft, ...|\n",
      "|It seems that Mic...|[it, seems, that,...|\n",
      "|Greece's economy ...|[greece's, econom...|\n",
      "|Sweden's economy ...|[sweden's, econom...|\n",
      "+--------------------+--------------------+\n",
      "only showing top 20 rows\n",
      "\n"
     ]
    }
   ],
   "source": [
    "tok_headline_wc = Tokenizer(inputCol=\"Headline\",outputCol=\"Tokenizer_Output\")\n",
    "data_tok_headline_wc = tok_headline_wc.transform(data)\n",
    "data_tok_headline_wc.select(\"Headline\",\"Tokenizer_Output\").show()"
   ]
  },
  {
   "cell_type": "markdown",
   "metadata": {},
   "source": [
    "### Wordcount each sentences in \"Title\"\n",
    "\n",
    "withColumn(colName, col)\n",
    "\n",
    "Returns a new DataFrame by adding a column or replacing the existing column that has the same name.\n",
    "\n",
    "Parameters:\t\n",
    "colName – string, name of the new column.<br>\n",
    "col – a Column expression for the new column.\n",
    "\n",
    "\n",
    "pyspark.sql.functions.size(col\n",
    "\n",
    "Collection function: returns the length of the array or map stored in the column.\n",
    "\n",
    "pyspark.sql.functions.split(str, pattern\n",
    "\n",
    "Splits str around pattern (pattern is a regular expression).\n",
    "<br>Note : pattern is a string represent the regular expression. "
   ]
  },
  {
   "cell_type": "code",
   "execution_count": 45,
   "metadata": {},
   "outputs": [
    {
     "name": "stdout",
     "output_type": "stream",
     "text": [
      "+--------------------+------------------+\n",
      "|               Title|Wordcount_in_Title|\n",
      "+--------------------+------------------+\n",
      "|Microsoft set a n...|                24|\n",
      "|Obama Hosts His L...|                24|\n",
      "|Microsoft set a n...|                24|\n",
      "|Obama Gets RIPPED...|                24|\n",
      "|Husbands who fly ...|                24|\n",
      "|Obama Loses Patie...|                23|\n",
      "|Obama equates glo...|                23|\n",
      "|'THE BEARS HAVE A...|                23|\n",
      "|Obama is about to...|                23|\n",
      "|Dive under the se...|                23|\n",
      "|The LinkedIn deal...|                23|\n",
      "|Now Obama tells B...|                23|\n",
      "|Microsoft set a n...|                23|\n",
      "|'THE BEARS HAVE A...|                23|\n",
      "|Satya Nadella on ...|                22|\n",
      "|This guy saw his ...|                22|\n",
      "|Obama compares IS...|                22|\n",
      "|Apple and Microso...|                22|\n",
      "|'My father had on...|                22|\n",
      "|Obama meeting wit...|                22|\n",
      "+--------------------+------------------+\n",
      "only showing top 20 rows\n",
      "\n"
     ]
    }
   ],
   "source": [
    "data.withColumn('Wordcount_in_Title', F.size(F.split(F.col('Title'), ' '))).select(\"Title\",\"Wordcount_in_Title\").sort(\"Wordcount_in_Title\",ascending=False).show()"
   ]
  },
  {
   "cell_type": "markdown",
   "metadata": {},
   "source": [
    "### Wordcount each sentences in \"Headline\""
   ]
  },
  {
   "cell_type": "code",
   "execution_count": 48,
   "metadata": {},
   "outputs": [
    {
     "name": "stdout",
     "output_type": "stream",
     "text": [
      "+--------------------+---------------------+\n",
      "|            Headline|Wordcount_in_Headline|\n",
      "+--------------------+---------------------+\n",
      "|Osaka, June 2 (IA...|                   81|\n",
      "|Introduction When...|                   81|\n",
      "|Microsoft wants y...|                   80|\n",
      "| Microsoft wants ...|                   80|\n",
      "| Microsoft wants ...|                   80|\n",
      "| Microsoft's Saty...|                   79|\n",
      "|An unwanted softw...|                   79|\n",
      "|Windows 10 Mobile...|                   78|\n",
      "|In this Brexit de...|                   78|\n",
      "|It turns out that...|                   78|\n",
      "|The Microsoft Sur...|                   78|\n",
      "|We all know that ...|                   78|\n",
      "|It's a new year, ...|                   77|\n",
      "|Submitted by Raul...|                   77|\n",
      "|President Obama s...|                   77|\n",
      "|Our economy is ri...|                   77|\n",
      "|Obama likened Ali...|                   77|\n",
      "| Microsoft is sup...|                   77|\n",
      "|Yes, the leaks we...|                   77|\n",
      "|Obama likened Ali...|                   77|\n",
      "+--------------------+---------------------+\n",
      "only showing top 20 rows\n",
      "\n"
     ]
    }
   ],
   "source": [
    "headline_wc = data.withColumn('Wordcount_in_Headline', F.size(F.split(F.col('Headline'), ' '))).select(\"Headline\",\"Wordcount_in_Headline\").sort(\"Wordcount_in_Headline\",ascending=False).show()"
   ]
  },
  {
   "cell_type": "markdown",
   "metadata": {},
   "source": [
    "### Count most frequent words in Title per Topic"
   ]
  },
  {
   "cell_type": "code",
   "execution_count": 41,
   "metadata": {
    "scrolled": true
   },
   "outputs": [
    {
     "name": "stdout",
     "output_type": "stream",
     "text": [
      "+--------------------+---------+-----+\n",
      "|               Title|    Topic|count|\n",
      "+--------------------+---------+-----+\n",
      "| Business Highlights|  economy|   30|\n",
      "|After Palestine t...|palestine|   23|\n",
      "|        ALSO IN News|palestine|   23|\n",
      "|5 Things to Know ...|  economy|   19|\n",
      "|Obama honors Conn...|    obama|   17|\n",
      "|Indonesia leader ...|palestine|   16|\n",
      "|Woman, 4 grandchi...|palestine|   15|\n",
      "|Brexit vote adds ...|  economy|   13|\n",
      "|The Latest: Flood...|palestine|   13|\n",
      "|Microsoft's secre...|microsoft|   13|\n",
      "|Prospects still s...|  economy|   13|\n",
      "|With HoloLens, Mi...|microsoft|   12|\n",
      "|Obama says North ...|    obama|   12|\n",
      "|Economy or first ...|  economy|   12|\n",
      "|Police identify P...|palestine|   12|\n",
      "|The Latest: 6th b...|palestine|   11|\n",
      "|Revolutionary Gua...|  economy|   11|\n",
      "|Family of flood v...|palestine|   11|\n",
      "|President Obama A...|    obama|   11|\n",
      "|Windows 10 releas...|microsoft|   11|\n",
      "+--------------------+---------+-----+\n",
      "only showing top 20 rows\n",
      "\n"
     ]
    }
   ],
   "source": [
    "data.groupBy([\"Title\",\"Topic\"]).count().sort(\"count\",ascending=False).show()"
   ]
  },
  {
   "cell_type": "markdown",
   "metadata": {},
   "source": [
    "### Count most frequent words in Title per PublishDate/Day"
   ]
  },
  {
   "cell_type": "code",
   "execution_count": 44,
   "metadata": {},
   "outputs": [
    {
     "name": "stdout",
     "output_type": "stream",
     "text": [
      "+--------------------+-------------------+-----+\n",
      "|               Title|        PublishDate|count|\n",
      "+--------------------+-------------------+-----+\n",
      "|Obama vetoes bill...|2016-01-08 11:07:00|    8|\n",
      "|EU lawmakers reje...|2016-05-12 07:54:00|    7|\n",
      "|Obama announces n...|2016-06-20 12:13:00|    6|\n",
      "|KING 5 is the fir...|2016-02-15 10:07:00|    6|\n",
      "|If the economy sp...|2016-05-01 09:00:00|    6|\n",
      "|FEI confirms Qata...|2016-03-24 10:09:00|    6|\n",
      "|Obama says he'll ...|2016-01-09 09:50:00|    6|\n",
      "|Messy Brexit coul...|2016-06-17 16:04:00|    6|\n",
      "|Three years behin...|2016-05-13 14:44:00|    6|\n",
      "|Microsoft interru...|2016-04-27 15:46:00|    6|\n",
      "|Obama signs educa...|2015-12-10 11:09:00|    6|\n",
      "|America beats exp...|2015-12-22 05:30:00|    6|\n",
      "|Obama says no spe...|2015-12-17 12:19:00|    6|\n",
      "|Microsoft just bo...|2016-06-13 06:25:00|    6|\n",
      "|Obama Foundation ...|2015-12-21 08:41:00|    6|\n",
      "|Obama signs bill ...|2016-05-11 14:30:00|    6|\n",
      "|Obama: Wall Stree...|2016-03-07 09:44:00|    5|\n",
      "|Obama just put gu...|2016-01-05 12:57:00|    5|\n",
      "|Brexit vote adds ...|2016-06-24 03:51:00|    5|\n",
      "|Obama says Donald...|2015-12-21 05:09:00|    5|\n",
      "+--------------------+-------------------+-----+\n",
      "only showing top 20 rows\n",
      "\n"
     ]
    }
   ],
   "source": [
    "data.groupBy([\"Title\",\"PublishDate\"]).count().sort(\"count\",ascending=False).show()"
   ]
  },
  {
   "cell_type": "markdown",
   "metadata": {},
   "source": [
    "### Count most frequent words in Title per Topic"
   ]
  },
  {
   "cell_type": "code",
   "execution_count": 63,
   "metadata": {},
   "outputs": [
    {
     "name": "stdout",
     "output_type": "stream",
     "text": [
      "+--------------------+---------+-----+\n",
      "|            Headline|    Topic|count|\n",
      "+--------------------+---------+-----+\n",
      "|\"\"\"\"\"\"\"Microsoft ...|   Forbes|   21|\n",
      "|Read full story f...|microsoft|   15|\n",
      "|The views express...|palestine|   13|\n",
      "|BETHLEHEM, March ...|palestine|   11|\n",
      "|President Obama o...|    obama|   11|\n",
      "|The court is weig...|    obama|   11|\n",
      "|In 2014, Palestin...|palestine|   10|\n",
      "|The family of a P...|palestine|   10|\n",
      "|The Creighton Eco...|  economy|    9|\n",
      "|Lisa Asberry Davi...|palestine|    9|\n",
      "|Police have ident...|palestine|    9|\n",
      "|President Barack ...|    obama|    9|\n",
      "|A Canadian legal ...|palestine|    8|\n",
      "|I had mixed feeli...|palestine|    8|\n",
      "|The subject was B...|    obama|    8|\n",
      "|President Obama a...|    obama|    8|\n",
      "|RAMALLAH, March 1...|palestine|    8|\n",
      "|Boris Johnson's P...|palestine|    8|\n",
      "|RAMALLAH, March 3...|palestine|    8|\n",
      "|Protecting his si...|    obama|    8|\n",
      "+--------------------+---------+-----+\n",
      "only showing top 20 rows\n",
      "\n"
     ]
    }
   ],
   "source": [
    "data.groupBy([\"Headline\",\"Topic\"]).count().sort(\"count\",ascending=False).show()"
   ]
  },
  {
   "cell_type": "markdown",
   "metadata": {},
   "source": [
    "### Count most frequent words in Headline per PublishDate/Day"
   ]
  },
  {
   "cell_type": "code",
   "execution_count": 66,
   "metadata": {},
   "outputs": [
    {
     "name": "stdout",
     "output_type": "stream",
     "text": [
      "+--------------------+-------------------+-----+\n",
      "|            Headline|        PublishDate|count|\n",
      "+--------------------+-------------------+-----+\n",
      "|\"\"\"\"\"\"\"Microsoft ...|          microsoft|   21|\n",
      "|Protecting his si...|2016-01-08 11:07:00|    8|\n",
      "|The Barack Obama ...|2015-12-21 08:41:00|    6|\n",
      "|WASHINGTON (AP) —...|2016-05-11 14:30:00|    6|\n",
      "|In an announcemen...|2016-06-13 06:25:00|    6|\n",
      "|Tired of those Wi...|2016-04-27 15:46:00|    6|\n",
      "|Despite being ann...|2016-02-15 10:07:00|    6|\n",
      "|Microsoft is late...|2016-05-13 14:44:00|    6|\n",
      "|President Barack ...|2016-01-09 09:50:00|    6|\n",
      "|McLEAN, Va. (AP) ...|2015-12-17 12:19:00|    6|\n",
      "|LAUSANNE, Switzer...|2016-03-24 10:09:00|    6|\n",
      "|Spring tidings? T...|2016-05-01 09:00:00|    6|\n",
      "|The US economy gr...|2015-12-22 05:30:00|    6|\n",
      "|WASHINGTON (AP) —...|2015-12-10 11:09:00|    6|\n",
      "|A petition thrown...|2016-06-06 14:47:00|    5|\n",
      "|The U.K.'s decisi...|2016-06-28 13:20:00|    5|\n",
      "|MADRID (AP) — Spa...|2016-06-28 02:34:00|    5|\n",
      "|Microsoft CEO Sat...|2016-06-13 09:51:00|    5|\n",
      "|WASHINGTON (AP) —...|2015-12-03 08:48:00|    5|\n",
      "|LONDON/SYDNEY (Re...|2016-06-24 03:51:00|    5|\n",
      "+--------------------+-------------------+-----+\n",
      "only showing top 20 rows\n",
      "\n"
     ]
    }
   ],
   "source": [
    "data.groupBy([\"Headline\",\"PublishDate\"]).count().sort(\"count\",ascending=False).show()"
   ]
  }
 ],
 "metadata": {
  "kernelspec": {
   "display_name": "Python 2",
   "language": "python",
   "name": "python2"
  },
  "language_info": {
   "codemirror_mode": {
    "name": "ipython",
    "version": 2
   },
   "file_extension": ".py",
   "mimetype": "text/x-python",
   "name": "python",
   "nbconvert_exporter": "python",
   "pygments_lexer": "ipython2",
   "version": "2.7.12"
  }
 },
 "nbformat": 4,
 "nbformat_minor": 2
}
