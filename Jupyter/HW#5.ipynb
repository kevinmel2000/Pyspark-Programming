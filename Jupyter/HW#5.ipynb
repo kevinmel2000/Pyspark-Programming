{
 "cells": [
  {
   "cell_type": "code",
   "execution_count": 1,
   "metadata": {},
   "outputs": [],
   "source": [
    "import re\n",
    "import sys\n",
    "from operator import add\n",
    "\n",
    "import pandas as pd\n",
    "from pyspark import SparkContext, SparkConf\n",
    "from pyspark.sql import SQLContext\n",
    "from pyspark.sql.functions import desc"
   ]
  },
  {
   "cell_type": "code",
   "execution_count": 2,
   "metadata": {},
   "outputs": [],
   "source": [
    "conf = SparkConf().setMaster(\"spark://sparklab-master:7077\").setAppName(\"HW5\")\n",
    "sc = SparkContext.getOrCreate(conf=conf)\n",
    "sqlContext=SQLContext(sc)"
   ]
  },
  {
   "cell_type": "code",
   "execution_count": 3,
   "metadata": {},
   "outputs": [],
   "source": [
    "raw_data = sc.textFile(\"/home/twster/Spark/Projects/datasets/web-Google-2.txt\",use_unicode=False)"
   ]
  },
  {
   "cell_type": "code",
   "execution_count": 4,
   "metadata": {},
   "outputs": [],
   "source": [
    "rdd = raw_data.map(lambda x: x.split(\"\\t\"))"
   ]
  },
  {
   "cell_type": "code",
   "execution_count": 5,
   "metadata": {},
   "outputs": [
    {
     "data": {
      "text/plain": [
       "[['0', '11342'],\n",
       " ['0', '824020'],\n",
       " ['0', '867923'],\n",
       " ['0', '891835'],\n",
       " ['11342', '0']]"
      ]
     },
     "execution_count": 5,
     "metadata": {},
     "output_type": "execute_result"
    }
   ],
   "source": [
    "rdd.take(5)"
   ]
  },
  {
   "cell_type": "code",
   "execution_count": 6,
   "metadata": {},
   "outputs": [],
   "source": [
    "import graphframes"
   ]
  },
  {
   "cell_type": "code",
   "execution_count": 7,
   "metadata": {},
   "outputs": [],
   "source": [
    "keys = rdd.flatMap(lambda x: (x[0], x[1])).distinct()\n",
    "keylist = keys.collect()"
   ]
  },
  {
   "cell_type": "code",
   "execution_count": 11,
   "metadata": {},
   "outputs": [
    {
     "name": "stdout",
     "output_type": "stream",
     "text": [
      "+------+\n",
      "|    id|\n",
      "+------+\n",
      "|378466|\n",
      "|287145|\n",
      "|228057|\n",
      "|378465|\n",
      "|287140|\n",
      "|228050|\n",
      "|378460|\n",
      "|287143|\n",
      "|287149|\n",
      "|378469|\n",
      "|825670|\n",
      "|405531|\n",
      "| 89373|\n",
      "| 11875|\n",
      "|825676|\n",
      "|281770|\n",
      "|425876|\n",
      "|825679|\n",
      "|425875|\n",
      "|370259|\n",
      "+------+\n",
      "only showing top 20 rows\n",
      "\n"
     ]
    }
   ],
   "source": [
    "vertices = keys.map(lambda x: (x, )).toDF([\"id\"])\n",
    "vertices.show()"
   ]
  },
  {
   "cell_type": "markdown",
   "metadata": {},
   "source": [
    "# (1) Given the Google web graph dataset, please output the list of web pages with the number of outlinks, sorted in descending order of the out-degrees."
   ]
  },
  {
   "cell_type": "code",
   "execution_count": 12,
   "metadata": {},
   "outputs": [
    {
     "name": "stdout",
     "output_type": "stream",
     "text": [
      "+------+------+\n",
      "|   src|   dst|\n",
      "+------+------+\n",
      "|     0| 11342|\n",
      "|     0|824020|\n",
      "|     0|867923|\n",
      "|     0|891835|\n",
      "| 11342|     0|\n",
      "| 11342| 27469|\n",
      "| 11342| 38716|\n",
      "| 11342|309564|\n",
      "| 11342|322178|\n",
      "| 11342|387543|\n",
      "| 11342|427436|\n",
      "| 11342|538214|\n",
      "| 11342|638706|\n",
      "| 11342|645018|\n",
      "| 11342|835220|\n",
      "| 11342|856657|\n",
      "| 11342|867923|\n",
      "| 11342|891835|\n",
      "|824020|     0|\n",
      "|824020| 91807|\n",
      "+------+------+\n",
      "only showing top 20 rows\n",
      "\n"
     ]
    }
   ],
   "source": [
    "#edge = rdd.map(lambda x: (x[0], x[1], x[0] + \":\" +x[1])).toDF([\"src\", \"dst\", \"relation\"])\n",
    "edge = rdd.map(lambda x: (x[0], x[1])).toDF([\"src\", \"dst\"])\n",
    "edge.show()"
   ]
  },
  {
   "cell_type": "code",
   "execution_count": 13,
   "metadata": {},
   "outputs": [
    {
     "name": "stdout",
     "output_type": "stream",
     "text": [
      "+------+--------+\n",
      "|NodeId|inDegree|\n",
      "+------+--------+\n",
      "|537039|    6326|\n",
      "|597621|    5354|\n",
      "|504140|    5271|\n",
      "|751384|    5182|\n",
      "| 32163|    5097|\n",
      "|885605|    4847|\n",
      "|163075|    4731|\n",
      "|819223|    4620|\n",
      "|605856|    4550|\n",
      "|828963|    4484|\n",
      "|551829|    4220|\n",
      "| 41909|    4219|\n",
      "|558791|    4206|\n",
      "|459074|    4187|\n",
      "|407610|    4180|\n",
      "|213432|    4084|\n",
      "|765334|    4015|\n",
      "|384666|    4010|\n",
      "|173976|    3988|\n",
      "|687325|    3956|\n",
      "+------+--------+\n",
      "only showing top 20 rows\n",
      "\n"
     ]
    }
   ],
   "source": [
    "g = graphframes.GraphFrame(vertices, edge)\n",
    "g.inDegrees.withColumnRenamed(\"id\",\"NodeId\").sort(desc(\"inDegree\")).show()\n",
    "#results = g.pageRank(resetProbability=0.15, tol=0.01)\n",
    "#results = g.pageRank(resetProbability=0.0001, maxIter=20)"
   ]
  },
  {
   "cell_type": "markdown",
   "metadata": {},
   "source": [
    "# (2) Please output the inlink distribution of the top linked web pages, sorted in descending order of the in-degrees."
   ]
  },
  {
   "cell_type": "code",
   "execution_count": 14,
   "metadata": {},
   "outputs": [
    {
     "name": "stdout",
     "output_type": "stream",
     "text": [
      "+------+---------+\n",
      "|NodeId|outDegree|\n",
      "+------+---------+\n",
      "|506742|      456|\n",
      "|203748|      372|\n",
      "|305229|      372|\n",
      "|768091|      330|\n",
      "|808643|      277|\n",
      "|412410|      268|\n",
      "|600479|      265|\n",
      "|376428|      258|\n",
      "|156950|      257|\n",
      "|885728|      256|\n",
      "|667584|      253|\n",
      "|685695|      248|\n",
      "|282140|      247|\n",
      "|598188|      245|\n",
      "|579314|      244|\n",
      "|411593|      231|\n",
      "|321091|      229|\n",
      "|838278|      225|\n",
      "|302733|      216|\n",
      "|915273|      213|\n",
      "+------+---------+\n",
      "only showing top 20 rows\n",
      "\n"
     ]
    }
   ],
   "source": [
    "from pyspark.sql.functions import desc\n",
    "g.outDegrees.withColumnRenamed(\"id\",\"NodeId\").sort(desc(\"outDegree\")).show()"
   ]
  },
  {
   "cell_type": "markdown",
   "metadata": {},
   "source": [
    "# (3) Design an algorithm that maintains the connectivity of two nodes in an efficient way. Given a node v, please output the list of nodes that v points to, and the list of nodes that points to v."
   ]
  },
  {
   "cell_type": "markdown",
   "metadata": {},
   "source": [
    "# "
   ]
  }
 ],
 "metadata": {
  "kernelspec": {
   "display_name": "Python 2",
   "language": "python",
   "name": "python2"
  },
  "language_info": {
   "codemirror_mode": {
    "name": "ipython",
    "version": 2
   },
   "file_extension": ".py",
   "mimetype": "text/x-python",
   "name": "python",
   "nbconvert_exporter": "python",
   "pygments_lexer": "ipython2",
   "version": "2.7.12"
  }
 },
 "nbformat": 4,
 "nbformat_minor": 2
}
