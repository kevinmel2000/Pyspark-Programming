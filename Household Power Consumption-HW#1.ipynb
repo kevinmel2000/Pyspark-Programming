{
 "cells": [
  {
   "cell_type": "markdown",
   "metadata": {},
   "source": [
    "# Big data mining and Applications  Course\n",
    "## HW#1 - Individual household electric power consumption Data Set\n",
    "### Data Set Information:\n",
    "Available at: https://archive.ics.uci.edu/ml/datasets/individual+household+electric+power+consumption \n",
    "\n",
    "[Individual household electric power consumption dataset] from UCI Machine Learning Repository About 2 million instances, 20MB (compressed) in size.\n",
    "\n",
    "This archive contains 2075259 measurements gathered between December 2006 and November 2010 (47 months).\n",
    "Notes:\n",
    "\n",
    "1. (global_active_power*1000/60 - sub_metering_1 - sub_metering_2 - sub_metering_3) represents the active energy consumed every minute (in watt hour) in the household by electrical equipment not measured in sub-meterings 1, 2 and 3.\n",
    "\n",
    "2. The dataset contains some missing values in the measurements (nearly 1,25% of the rows). All calendar timestamps are present in the dataset but for some timestamps, the measurement values are missing: a missing value is represented by the absence of value between two consecutive semi-colon attribute separators. For instance, the dataset shows missing values on April 28, 2007.\n",
    "\n",
    "### Attribute Information:\n",
    "1. date: Date in format dd/mm/yyyy\n",
    "2. time: time in format hh:mm:ss\n",
    "3. global_active_power: household global minute-averaged active power (in kilowatt)\n",
    "4. global_reactive_power: household global minute-averaged reactive power (in kilowatt)\n",
    "5. voltage: minute-averaged voltage (in volt)\n",
    "6. global_intensity: household global minute-averaged current intensity (in ampere)\n",
    "7. sub_metering_1: energy sub-metering No. 1 (in watt-hour of active energy).\n",
    "    - It corresponds to the kitchen, containing mainly a dishwasher, an oven and a microwave (hot plates are not electric but gas powered).\n",
    "8. sub_metering_2: energy sub-metering No. 2 (in watt-hour of active energy). \n",
    "    - It corresponds to the laundry room, containing a washing-machine, a tumble-drier, a refrigerator and a light.\n",
    "9. sub_metering_3: energy sub-metering No. 3 (in watt-hour of active energy).\n",
    "    - It corresponds to an electric water-heater and an air-conditioner."
   ]
  },
  {
   "cell_type": "markdown",
   "metadata": {},
   "source": [
    "### Check Hardware Specification "
   ]
  },
  {
   "cell_type": "code",
   "execution_count": 93,
   "metadata": {},
   "outputs": [
    {
     "name": "stdout",
     "output_type": "stream",
     "text": [
      "processor\t: 0\r\n",
      "vendor_id\t: GenuineIntel\r\n",
      "cpu family\t: 6\r\n",
      "model\t\t: 63\r\n",
      "model name\t: Intel(R) Xeon(R) CPU E5-2620 v3 @ 2.40GHz\r\n",
      "stepping\t: 2\r\n",
      "microcode\t: 0x35\r\n",
      "cpu MHz\t\t: 2397.223\r\n",
      "cache size\t: 15360 KB\r\n",
      "physical id\t: 0\r\n",
      "siblings\t: 1\r\n",
      "core id\t\t: 0\r\n",
      "cpu cores\t: 1\r\n",
      "apicid\t\t: 0\r\n",
      "initial apicid\t: 0\r\n",
      "fpu\t\t: yes\r\n",
      "fpu_exception\t: yes\r\n",
      "cpuid level\t: 13\r\n",
      "wp\t\t: yes\r\n",
      "flags\t\t: fpu vme de pse tsc msr pae mce cx8 apic sep mtrr pge mca cmov pat pse36 clflush dts mmx fxsr sse sse2 ss syscall nx pdpe1gb rdtscp lm constant_tsc arch_perfmon pebs bts nopl xtopology tsc_reliable nonstop_tsc cpuid pni pclmulqdq ssse3 fma cx16 pcid sse4_1 sse4_2 x2apic movbe popcnt tsc_deadline_timer aes xsave avx f16c rdrand hypervisor lahf_lm abm cpuid_fault invpcid_single pti retpoline fsgsbase tsc_adjust bmi1 avx2 smep bmi2 invpcid xsaveopt arat\r\n",
      "bugs\t\t: cpu_meltdown spectre_v1 spectre_v2\r\n",
      "bogomips\t: 4794.44\r\n",
      "clflush size\t: 64\r\n",
      "cache_alignment\t: 64\r\n",
      "address sizes\t: 43 bits physical, 48 bits virtual\r\n",
      "power management:\r\n",
      "\r\n",
      "processor\t: 1\r\n",
      "vendor_id\t: GenuineIntel\r\n",
      "cpu family\t: 6\r\n",
      "model\t\t: 63\r\n",
      "model name\t: Intel(R) Xeon(R) CPU E5-2620 v3 @ 2.40GHz\r\n",
      "stepping\t: 2\r\n",
      "microcode\t: 0x35\r\n",
      "cpu MHz\t\t: 2397.223\r\n",
      "cache size\t: 15360 KB\r\n",
      "physical id\t: 2\r\n",
      "siblings\t: 1\r\n",
      "core id\t\t: 0\r\n",
      "cpu cores\t: 1\r\n",
      "apicid\t\t: 2\r\n",
      "initial apicid\t: 2\r\n",
      "fpu\t\t: yes\r\n",
      "fpu_exception\t: yes\r\n",
      "cpuid level\t: 13\r\n",
      "wp\t\t: yes\r\n",
      "flags\t\t: fpu vme de pse tsc msr pae mce cx8 apic sep mtrr pge mca cmov pat pse36 clflush dts mmx fxsr sse sse2 ss syscall nx pdpe1gb rdtscp lm constant_tsc arch_perfmon pebs bts nopl xtopology tsc_reliable nonstop_tsc cpuid pni pclmulqdq ssse3 fma cx16 pcid sse4_1 sse4_2 x2apic movbe popcnt tsc_deadline_timer aes xsave avx f16c rdrand hypervisor lahf_lm abm cpuid_fault invpcid_single pti retpoline fsgsbase tsc_adjust bmi1 avx2 smep bmi2 invpcid xsaveopt arat\r\n",
      "bugs\t\t: cpu_meltdown spectre_v1 spectre_v2\r\n",
      "bogomips\t: 4794.44\r\n",
      "clflush size\t: 64\r\n",
      "cache_alignment\t: 64\r\n",
      "address sizes\t: 43 bits physical, 48 bits virtual\r\n",
      "power management:\r\n",
      "\r\n",
      "processor\t: 2\r\n",
      "vendor_id\t: GenuineIntel\r\n",
      "cpu family\t: 6\r\n",
      "model\t\t: 63\r\n",
      "model name\t: Intel(R) Xeon(R) CPU E5-2620 v3 @ 2.40GHz\r\n",
      "stepping\t: 2\r\n",
      "microcode\t: 0x35\r\n",
      "cpu MHz\t\t: 2397.223\r\n",
      "cache size\t: 15360 KB\r\n",
      "physical id\t: 4\r\n",
      "siblings\t: 1\r\n",
      "core id\t\t: 0\r\n",
      "cpu cores\t: 1\r\n",
      "apicid\t\t: 4\r\n",
      "initial apicid\t: 4\r\n",
      "fpu\t\t: yes\r\n",
      "fpu_exception\t: yes\r\n",
      "cpuid level\t: 13\r\n",
      "wp\t\t: yes\r\n",
      "flags\t\t: fpu vme de pse tsc msr pae mce cx8 apic sep mtrr pge mca cmov pat pse36 clflush dts mmx fxsr sse sse2 ss syscall nx pdpe1gb rdtscp lm constant_tsc arch_perfmon pebs bts nopl xtopology tsc_reliable nonstop_tsc cpuid pni pclmulqdq ssse3 fma cx16 pcid sse4_1 sse4_2 x2apic movbe popcnt tsc_deadline_timer aes xsave avx f16c rdrand hypervisor lahf_lm abm cpuid_fault invpcid_single pti retpoline fsgsbase tsc_adjust bmi1 avx2 smep bmi2 invpcid xsaveopt arat\r\n",
      "bugs\t\t: cpu_meltdown spectre_v1 spectre_v2\r\n",
      "bogomips\t: 4794.44\r\n",
      "clflush size\t: 64\r\n",
      "cache_alignment\t: 64\r\n",
      "address sizes\t: 43 bits physical, 48 bits virtual\r\n",
      "power management:\r\n",
      "\r\n",
      "processor\t: 3\r\n",
      "vendor_id\t: GenuineIntel\r\n",
      "cpu family\t: 6\r\n",
      "model\t\t: 63\r\n",
      "model name\t: Intel(R) Xeon(R) CPU E5-2620 v3 @ 2.40GHz\r\n",
      "stepping\t: 2\r\n",
      "microcode\t: 0x35\r\n",
      "cpu MHz\t\t: 2397.223\r\n",
      "cache size\t: 15360 KB\r\n",
      "physical id\t: 6\r\n",
      "siblings\t: 1\r\n",
      "core id\t\t: 0\r\n",
      "cpu cores\t: 1\r\n",
      "apicid\t\t: 6\r\n",
      "initial apicid\t: 6\r\n",
      "fpu\t\t: yes\r\n",
      "fpu_exception\t: yes\r\n",
      "cpuid level\t: 13\r\n",
      "wp\t\t: yes\r\n",
      "flags\t\t: fpu vme de pse tsc msr pae mce cx8 apic sep mtrr pge mca cmov pat pse36 clflush dts mmx fxsr sse sse2 ss syscall nx pdpe1gb rdtscp lm constant_tsc arch_perfmon pebs bts nopl xtopology tsc_reliable nonstop_tsc cpuid pni pclmulqdq ssse3 fma cx16 pcid sse4_1 sse4_2 x2apic movbe popcnt tsc_deadline_timer aes xsave avx f16c rdrand hypervisor lahf_lm abm cpuid_fault invpcid_single pti retpoline fsgsbase tsc_adjust bmi1 avx2 smep bmi2 invpcid xsaveopt arat\r\n",
      "bugs\t\t: cpu_meltdown spectre_v1 spectre_v2\r\n",
      "bogomips\t: 4794.44\r\n",
      "clflush size\t: 64\r\n",
      "cache_alignment\t: 64\r\n",
      "address sizes\t: 43 bits physical, 48 bits virtual\r\n",
      "power management:\r\n",
      "\r\n"
     ]
    }
   ],
   "source": [
    "%cat /proc/cpuinfo"
   ]
  },
  {
   "cell_type": "code",
   "execution_count": 94,
   "metadata": {},
   "outputs": [
    {
     "name": "stdout",
     "output_type": "stream",
     "text": [
      "MemTotal:        8168740 kB\r\n",
      "MemFree:          140652 kB\r\n",
      "MemAvailable:     515880 kB\r\n",
      "Buffers:          145764 kB\r\n",
      "Cached:           516752 kB\r\n",
      "SwapCached:        13776 kB\r\n",
      "Active:          6303360 kB\r\n",
      "Inactive:        1410664 kB\r\n",
      "Active(anon):    6010656 kB\r\n",
      "Inactive(anon):  1142228 kB\r\n",
      "Active(file):     292704 kB\r\n",
      "Inactive(file):   268436 kB\r\n",
      "Unevictable:           0 kB\r\n",
      "Mlocked:               0 kB\r\n",
      "SwapTotal:       8385532 kB\r\n",
      "SwapFree:        8302064 kB\r\n",
      "Dirty:               192 kB\r\n",
      "Writeback:             0 kB\r\n",
      "AnonPages:       7038768 kB\r\n",
      "Mapped:           380384 kB\r\n",
      "Shmem:            101368 kB\r\n",
      "Slab:             150720 kB\r\n",
      "SReclaimable:      70992 kB\r\n",
      "SUnreclaim:        79728 kB\r\n",
      "KernelStack:       27488 kB\r\n",
      "PageTables:        57764 kB\r\n",
      "NFS_Unstable:          0 kB\r\n",
      "Bounce:                0 kB\r\n",
      "WritebackTmp:          0 kB\r\n",
      "CommitLimit:    12469900 kB\r\n",
      "Committed_AS:   16696048 kB\r\n",
      "VmallocTotal:   34359738367 kB\r\n",
      "VmallocUsed:           0 kB\r\n",
      "VmallocChunk:          0 kB\r\n",
      "HardwareCorrupted:     0 kB\r\n",
      "AnonHugePages:         0 kB\r\n",
      "ShmemHugePages:        0 kB\r\n",
      "ShmemPmdMapped:        0 kB\r\n",
      "CmaTotal:              0 kB\r\n",
      "CmaFree:               0 kB\r\n",
      "HugePages_Total:       0\r\n",
      "HugePages_Free:        0\r\n",
      "HugePages_Rsvd:        0\r\n",
      "HugePages_Surp:        0\r\n",
      "Hugepagesize:       2048 kB\r\n",
      "DirectMap4k:      135104 kB\r\n",
      "DirectMap2M:     5107712 kB\r\n",
      "DirectMap1G:     5242880 kB\r\n"
     ]
    }
   ],
   "source": [
    "%cat /proc/meminfo"
   ]
  },
  {
   "cell_type": "markdown",
   "metadata": {},
   "source": [
    "### Check Operating System Specification"
   ]
  },
  {
   "cell_type": "code",
   "execution_count": 95,
   "metadata": {
    "scrolled": true
   },
   "outputs": [
    {
     "name": "stdout",
     "output_type": "stream",
     "text": [
      "DISTRIB_ID=Ubuntu\r\n",
      "DISTRIB_RELEASE=16.04\r\n",
      "DISTRIB_CODENAME=xenial\r\n",
      "DISTRIB_DESCRIPTION=\"Ubuntu 16.04.4 LTS\"\r\n"
     ]
    }
   ],
   "source": [
    "%cat /etc/lsb-release"
   ]
  },
  {
   "cell_type": "code",
   "execution_count": 96,
   "metadata": {},
   "outputs": [],
   "source": [
    "import pandas as pd\n",
    "from pyspark import SparkContext, SparkConf\n",
    "from pyspark.sql import SQLContext\n",
    "from pyspark.sql.functions import rand, randn"
   ]
  },
  {
   "cell_type": "code",
   "execution_count": 97,
   "metadata": {},
   "outputs": [],
   "source": [
    "conf = SparkConf().setMaster(\"spark://sparklab1:7077\").setAppName(\"Household Power Consumption\")\n",
    "sc = SparkContext.getOrCreate(conf=conf)\n",
    "sqlContext=SQLContext(sc)"
   ]
  },
  {
   "cell_type": "markdown",
   "metadata": {},
   "source": [
    "### Check Apache Spark environtment"
   ]
  },
  {
   "cell_type": "code",
   "execution_count": 98,
   "metadata": {},
   "outputs": [
    {
     "data": {
      "text/html": [
       "\n",
       "        <div>\n",
       "            <p><b>SparkContext</b></p>\n",
       "\n",
       "            <p><a href=\"http://172.17.0.1:4040\">Spark UI</a></p>\n",
       "\n",
       "            <dl>\n",
       "              <dt>Version</dt>\n",
       "                <dd><code>v2.2.1</code></dd>\n",
       "              <dt>Master</dt>\n",
       "                <dd><code>spark://sparklab1:7077</code></dd>\n",
       "              <dt>AppName</dt>\n",
       "                <dd><code>PySparkShell</code></dd>\n",
       "            </dl>\n",
       "        </div>\n",
       "        "
      ],
      "text/plain": [
       "<SparkContext master=spark://sparklab1:7077 appName=PySparkShell>"
      ]
     },
     "execution_count": 98,
     "metadata": {},
     "output_type": "execute_result"
    }
   ],
   "source": [
    "sc"
   ]
  },
  {
   "cell_type": "code",
   "execution_count": 99,
   "metadata": {},
   "outputs": [],
   "source": [
    "raw_data = sc.textFile(\"hdfs://tri-virtual-machine:9000/user/tri/household_power_consumption.txt\",use_unicode=False)"
   ]
  },
  {
   "cell_type": "code",
   "execution_count": 100,
   "metadata": {},
   "outputs": [],
   "source": [
    "df = raw_data.map(lambda x: x.split(\";\"))"
   ]
  },
  {
   "cell_type": "code",
   "execution_count": 101,
   "metadata": {},
   "outputs": [
    {
     "data": {
      "text/plain": [
       "[['Date',\n",
       "  'Time',\n",
       "  'Global_active_power',\n",
       "  'Global_reactive_power',\n",
       "  'Voltage',\n",
       "  'Global_intensity',\n",
       "  'Sub_metering_1',\n",
       "  'Sub_metering_2',\n",
       "  'Sub_metering_3'],\n",
       " ['16/12/2006',\n",
       "  '17:24:00',\n",
       "  '4.216',\n",
       "  '0.418',\n",
       "  '234.840',\n",
       "  '18.400',\n",
       "  '0.000',\n",
       "  '1.000',\n",
       "  '17.000'],\n",
       " ['16/12/2006',\n",
       "  '17:25:00',\n",
       "  '5.360',\n",
       "  '0.436',\n",
       "  '233.630',\n",
       "  '23.000',\n",
       "  '0.000',\n",
       "  '1.000',\n",
       "  '16.000'],\n",
       " ['16/12/2006',\n",
       "  '17:26:00',\n",
       "  '5.374',\n",
       "  '0.498',\n",
       "  '233.290',\n",
       "  '23.000',\n",
       "  '0.000',\n",
       "  '2.000',\n",
       "  '17.000'],\n",
       " ['16/12/2006',\n",
       "  '17:27:00',\n",
       "  '5.388',\n",
       "  '0.502',\n",
       "  '233.740',\n",
       "  '23.000',\n",
       "  '0.000',\n",
       "  '1.000',\n",
       "  '17.000']]"
      ]
     },
     "execution_count": 101,
     "metadata": {},
     "output_type": "execute_result"
    }
   ],
   "source": [
    "df.take(5)"
   ]
  },
  {
   "cell_type": "code",
   "execution_count": 102,
   "metadata": {},
   "outputs": [
    {
     "data": {
      "text/plain": [
       "DataFrame[Date: string, Time: string, Global_active_power: string, Global_reactive_power: string, Voltage: string, Global_intensity: string, Sub_metering_1: string, Sub_metering_2: string, Sub_metering_3: string]"
      ]
     },
     "execution_count": 102,
     "metadata": {},
     "output_type": "execute_result"
    }
   ],
   "source": [
    "df2 = sqlContext.createDataFrame(data = df.filter(lambda x:x[0]!='Date'),\n",
    "                                schema = df.filter(lambda x:x[0]=='Date').collect()[0])\n",
    "df2.persist()"
   ]
  },
  {
   "cell_type": "code",
   "execution_count": 103,
   "metadata": {},
   "outputs": [
    {
     "name": "stdout",
     "output_type": "stream",
     "text": [
      "+----------+--------+-------------------+---------------------+-------+----------------+--------------+--------------+--------------+\n",
      "|      Date|    Time|Global_active_power|Global_reactive_power|Voltage|Global_intensity|Sub_metering_1|Sub_metering_2|Sub_metering_3|\n",
      "+----------+--------+-------------------+---------------------+-------+----------------+--------------+--------------+--------------+\n",
      "|16/12/2006|17:24:00|              4.216|                0.418|234.840|          18.400|         0.000|         1.000|        17.000|\n",
      "|16/12/2006|17:25:00|              5.360|                0.436|233.630|          23.000|         0.000|         1.000|        16.000|\n",
      "|16/12/2006|17:26:00|              5.374|                0.498|233.290|          23.000|         0.000|         2.000|        17.000|\n",
      "|16/12/2006|17:27:00|              5.388|                0.502|233.740|          23.000|         0.000|         1.000|        17.000|\n",
      "|16/12/2006|17:28:00|              3.666|                0.528|235.680|          15.800|         0.000|         1.000|        17.000|\n",
      "|16/12/2006|17:29:00|              3.520|                0.522|235.020|          15.000|         0.000|         2.000|        17.000|\n",
      "|16/12/2006|17:30:00|              3.702|                0.520|235.090|          15.800|         0.000|         1.000|        17.000|\n",
      "|16/12/2006|17:31:00|              3.700|                0.520|235.220|          15.800|         0.000|         1.000|        17.000|\n",
      "|16/12/2006|17:32:00|              3.668|                0.510|233.990|          15.800|         0.000|         1.000|        17.000|\n",
      "|16/12/2006|17:33:00|              3.662|                0.510|233.860|          15.800|         0.000|         2.000|        16.000|\n",
      "|16/12/2006|17:34:00|              4.448|                0.498|232.860|          19.600|         0.000|         1.000|        17.000|\n",
      "|16/12/2006|17:35:00|              5.412|                0.470|232.780|          23.200|         0.000|         1.000|        17.000|\n",
      "|16/12/2006|17:36:00|              5.224|                0.478|232.990|          22.400|         0.000|         1.000|        16.000|\n",
      "|16/12/2006|17:37:00|              5.268|                0.398|232.910|          22.600|         0.000|         2.000|        17.000|\n",
      "|16/12/2006|17:38:00|              4.054|                0.422|235.240|          17.600|         0.000|         1.000|        17.000|\n",
      "|16/12/2006|17:39:00|              3.384|                0.282|237.140|          14.200|         0.000|         0.000|        17.000|\n",
      "|16/12/2006|17:40:00|              3.270|                0.152|236.730|          13.800|         0.000|         0.000|        17.000|\n",
      "|16/12/2006|17:41:00|              3.430|                0.156|237.060|          14.400|         0.000|         0.000|        17.000|\n",
      "|16/12/2006|17:42:00|              3.266|                0.000|237.130|          13.800|         0.000|         0.000|        18.000|\n",
      "|16/12/2006|17:43:00|              3.728|                0.000|235.840|          16.400|         0.000|         0.000|        17.000|\n",
      "+----------+--------+-------------------+---------------------+-------+----------------+--------------+--------------+--------------+\n",
      "only showing top 20 rows\n",
      "\n"
     ]
    }
   ],
   "source": [
    "df2.show(n = 20)"
   ]
  },
  {
   "cell_type": "code",
   "execution_count": 104,
   "metadata": {},
   "outputs": [
    {
     "data": {
      "text/plain": [
       "[('Date', 'string'),\n",
       " ('Time', 'string'),\n",
       " ('Global_active_power', 'string'),\n",
       " ('Global_reactive_power', 'string'),\n",
       " ('Voltage', 'string'),\n",
       " ('Global_intensity', 'string'),\n",
       " ('Sub_metering_1', 'string'),\n",
       " ('Sub_metering_2', 'string'),\n",
       " ('Sub_metering_3', 'string')]"
      ]
     },
     "execution_count": 104,
     "metadata": {},
     "output_type": "execute_result"
    }
   ],
   "source": [
    "#check the types of each columns\n",
    "df2.dtypes"
   ]
  },
  {
   "cell_type": "code",
   "execution_count": 105,
   "metadata": {},
   "outputs": [],
   "source": [
    "from pyspark.sql.types import IntegerType, DateType, DoubleType"
   ]
  },
  {
   "cell_type": "code",
   "execution_count": 106,
   "metadata": {},
   "outputs": [],
   "source": [
    "#Change String types format to DoubleType \"Global_active_power\",\"Global_reactive_power\",\"Voltage\",\"Global_intensity\"\n",
    "df3 = df2.withColumn(\"Global_active_power\", df2[\"Global_active_power\"].cast(DoubleType()))\n",
    "df4 = df3.withColumn(\"Global_reactive_power\", df3[\"Global_reactive_power\"].cast(DoubleType()))\n",
    "df5 = df4.withColumn(\"Voltage\", df4[\"Voltage\"].cast(DoubleType()))\n",
    "df6 = df5.withColumn(\"Global_intensity\", df5[\"Global_intensity\"].cast(DoubleType()))\n"
   ]
  },
  {
   "cell_type": "markdown",
   "metadata": {},
   "source": [
    "#### Check datafreame types"
   ]
  },
  {
   "cell_type": "code",
   "execution_count": 107,
   "metadata": {
    "scrolled": true
   },
   "outputs": [
    {
     "data": {
      "text/plain": [
       "[('Date', 'string'),\n",
       " ('Time', 'string'),\n",
       " ('Global_active_power', 'double'),\n",
       " ('Global_reactive_power', 'double'),\n",
       " ('Voltage', 'double'),\n",
       " ('Global_intensity', 'double'),\n",
       " ('Sub_metering_1', 'string'),\n",
       " ('Sub_metering_2', 'string'),\n",
       " ('Sub_metering_3', 'string')]"
      ]
     },
     "execution_count": 107,
     "metadata": {},
     "output_type": "execute_result"
    }
   ],
   "source": [
    "df6.dtypes"
   ]
  },
  {
   "cell_type": "markdown",
   "metadata": {},
   "source": [
    "##### Check schema dataframe"
   ]
  },
  {
   "cell_type": "code",
   "execution_count": 108,
   "metadata": {},
   "outputs": [
    {
     "name": "stdout",
     "output_type": "stream",
     "text": [
      "root\n",
      " |-- Date: string (nullable = true)\n",
      " |-- Time: string (nullable = true)\n",
      " |-- Global_active_power: double (nullable = true)\n",
      " |-- Global_reactive_power: double (nullable = true)\n",
      " |-- Voltage: double (nullable = true)\n",
      " |-- Global_intensity: double (nullable = true)\n",
      " |-- Sub_metering_1: string (nullable = true)\n",
      " |-- Sub_metering_2: string (nullable = true)\n",
      " |-- Sub_metering_3: string (nullable = true)\n",
      "\n"
     ]
    }
   ],
   "source": [
    "df6.printSchema()"
   ]
  },
  {
   "cell_type": "code",
   "execution_count": 109,
   "metadata": {},
   "outputs": [
    {
     "name": "stdout",
     "output_type": "stream",
     "text": [
      "+----------+--------+-------------------+---------------------+-------+----------------+--------------+--------------+--------------+\n",
      "|      Date|    Time|Global_active_power|Global_reactive_power|Voltage|Global_intensity|Sub_metering_1|Sub_metering_2|Sub_metering_3|\n",
      "+----------+--------+-------------------+---------------------+-------+----------------+--------------+--------------+--------------+\n",
      "|16/12/2006|17:24:00|              4.216|                0.418| 234.84|            18.4|         0.000|         1.000|        17.000|\n",
      "|16/12/2006|17:25:00|               5.36|                0.436| 233.63|            23.0|         0.000|         1.000|        16.000|\n",
      "|16/12/2006|17:26:00|              5.374|                0.498| 233.29|            23.0|         0.000|         2.000|        17.000|\n",
      "|16/12/2006|17:27:00|              5.388|                0.502| 233.74|            23.0|         0.000|         1.000|        17.000|\n",
      "|16/12/2006|17:28:00|              3.666|                0.528| 235.68|            15.8|         0.000|         1.000|        17.000|\n",
      "+----------+--------+-------------------+---------------------+-------+----------------+--------------+--------------+--------------+\n",
      "only showing top 5 rows\n",
      "\n"
     ]
    }
   ],
   "source": [
    "df6.show(5)"
   ]
  },
  {
   "cell_type": "code",
   "execution_count": 110,
   "metadata": {
    "scrolled": true
   },
   "outputs": [
    {
     "name": "stdout",
     "output_type": "stream",
     "text": [
      "+-------+-------------------+---------------------+------------------+-----------------+\n",
      "|summary|Global_active_power|Global_reactive_power|           Voltage| Global_intensity|\n",
      "+-------+-------------------+---------------------+------------------+-----------------+\n",
      "|  count|            2049280|              2049280|           2049280|          2049280|\n",
      "|   mean| 1.0916150365007313|  0.12371447630388727|240.83985797455423|4.627759310588489|\n",
      "| stddev|  1.057294161093981|   0.1127219795507159|3.2399866790102716|4.444396259786191|\n",
      "|    min|              0.076|                  0.0|             223.2|              0.2|\n",
      "|    max|             11.122|                 1.39|            254.15|             48.4|\n",
      "+-------+-------------------+---------------------+------------------+-----------------+\n",
      "\n"
     ]
    }
   ],
   "source": [
    "df6.describe([\"Global_active_power\",\"Global_reactive_power\",\"Voltage\",\"Global_intensity\"]).show()"
   ]
  },
  {
   "cell_type": "markdown",
   "metadata": {},
   "source": [
    "#### Using library of pyspark to anaysis minimum, maximum, mean and standar deviation"
   ]
  },
  {
   "cell_type": "code",
   "execution_count": 111,
   "metadata": {},
   "outputs": [],
   "source": [
    "from pyspark.sql.functions import min,max,mean,stddev,count"
   ]
  },
  {
   "cell_type": "markdown",
   "metadata": {},
   "source": [
    "#### Output the minimum, maximum and count of the columns 'Global_active_power'"
   ]
  },
  {
   "cell_type": "code",
   "execution_count": 112,
   "metadata": {
    "scrolled": true
   },
   "outputs": [
    {
     "name": "stdout",
     "output_type": "stream",
     "text": [
      "Show output the minimum, maximum and count of the columns 'Global_active_power'\n",
      "+---------------------------+---------------------------+-------------------------+\n",
      "|Minimum Global Active Power|Maximum Global Active Power|Count Global Active Power|\n",
      "+---------------------------+---------------------------+-------------------------+\n",
      "|                      0.076|                     11.122|                  2049280|\n",
      "+---------------------------+---------------------------+-------------------------+\n",
      "\n"
     ]
    }
   ],
   "source": [
    "print \"Show output the minimum, maximum and count of the columns 'Global_active_power'\"\n",
    "df6.select([min(\"Global_active_power\").alias(\"Minimum Global Active Power\"),\n",
    "           max(\"Global_active_power\").alias(\"Maximum Global Active Power\"),\n",
    "           count(\"Global_active_power\").alias(\"Count Global Active Power\")]).show()"
   ]
  },
  {
   "cell_type": "code",
   "execution_count": 113,
   "metadata": {},
   "outputs": [
    {
     "name": "stdout",
     "output_type": "stream",
     "text": [
      "Count each value of Global Active Power\n",
      "+-------------------+-----+\n",
      "|Global_active_power|count|\n",
      "+-------------------+-----+\n",
      "|               3.26|  163|\n",
      "|              2.784|  273|\n",
      "|              3.456|  147|\n",
      "|              1.462| 2310|\n",
      "|               0.66|  802|\n",
      "|              2.712|  325|\n",
      "|              4.132|   86|\n",
      "|              0.204| 4846|\n",
      "|              1.882|  667|\n",
      "|              7.818|    3|\n",
      "|              0.526| 1431|\n",
      "|              0.194| 2748|\n",
      "|              2.952|  248|\n",
      "|              2.132|  441|\n",
      "|               2.86|  238|\n",
      "|              4.318|   82|\n",
      "|              4.592|   33|\n",
      "|              4.752|   42|\n",
      "|              10.65|    1|\n",
      "|              5.114|   31|\n",
      "|              0.134| 1394|\n",
      "|              2.206|  412|\n",
      "|              3.174|  176|\n",
      "|              0.262| 6188|\n",
      "|               1.82|  690|\n",
      "|              2.802|  252|\n",
      "|              1.246|  938|\n",
      "|              1.642| 1053|\n",
      "|              0.772|  609|\n",
      "|              2.808|  260|\n",
      "+-------------------+-----+\n",
      "only showing top 30 rows\n",
      "\n"
     ]
    }
   ],
   "source": [
    "print \"Count each value of Global Active Power\"\n",
    "df6.groupBy(\"Global_active_power\").count().show(n = 30)"
   ]
  },
  {
   "cell_type": "markdown",
   "metadata": {},
   "source": [
    "#### Output the minimum, maximum and count of the columns 'Global_reactive_power'"
   ]
  },
  {
   "cell_type": "code",
   "execution_count": 114,
   "metadata": {
    "scrolled": true
   },
   "outputs": [
    {
     "name": "stdout",
     "output_type": "stream",
     "text": [
      "Show output the minimum, maximum and count of the columns 'Global_reactive_power'\n",
      "+-----------------------------+-----------------------------+---------------------------+\n",
      "|Minimum Global Reactive Power|Maximum Global Reactive Power|Count Global Reactive Power|\n",
      "+-----------------------------+-----------------------------+---------------------------+\n",
      "|                          0.0|                         1.39|                    2049280|\n",
      "+-----------------------------+-----------------------------+---------------------------+\n",
      "\n"
     ]
    }
   ],
   "source": [
    "print \"Show output the minimum, maximum and count of the columns 'Global_reactive_power'\"\n",
    "df6.select([min(\"Global_reactive_power\").alias(\"Minimum Global Reactive Power\"),\n",
    "           max(\"Global_reactive_power\").alias(\"Maximum Global Reactive Power\"),\n",
    "           count(\"Global_reactive_power\").alias(\"Count Global Reactive Power\")]).show()"
   ]
  },
  {
   "cell_type": "markdown",
   "metadata": {},
   "source": [
    "#### Output the minimum, maximum and count of the columns 'Voltage'"
   ]
  },
  {
   "cell_type": "code",
   "execution_count": 115,
   "metadata": {
    "scrolled": true
   },
   "outputs": [
    {
     "name": "stdout",
     "output_type": "stream",
     "text": [
      "Show output the minimum, amximum and count of the columns 'Voltage'\n",
      "+---------------+---------------+-------------+\n",
      "|Minimum Voltage|Maximum Voltage|Count Voltage|\n",
      "+---------------+---------------+-------------+\n",
      "|          223.2|         254.15|      2049280|\n",
      "+---------------+---------------+-------------+\n",
      "\n"
     ]
    }
   ],
   "source": [
    "print \"Show output the minimum, amximum and count of the columns 'Voltage'\"\n",
    "df6.select([min(\"Voltage\").alias(\"Minimum Voltage\"),\n",
    "           max(\"Voltage\").alias(\"Maximum Voltage\"),\n",
    "          count(\"Voltage\").alias(\"Count Voltage\")]).show()"
   ]
  },
  {
   "cell_type": "markdown",
   "metadata": {},
   "source": [
    "#### Output the minimum, maximum and count of the columns 'Global_intensity'"
   ]
  },
  {
   "cell_type": "code",
   "execution_count": 116,
   "metadata": {},
   "outputs": [
    {
     "name": "stdout",
     "output_type": "stream",
     "text": [
      "Show output the minimum, maximum and count the columns of 'Global_intensity'\n",
      "+-------------------------+------------------------+----------------------+\n",
      "|Minimum Global Intensity |Maximum Global Intensity|Count Global Intensity|\n",
      "+-------------------------+------------------------+----------------------+\n",
      "|                      0.2|                    48.4|               2049280|\n",
      "+-------------------------+------------------------+----------------------+\n",
      "\n"
     ]
    }
   ],
   "source": [
    "print \"Show output the minimum, maximum and count the columns of 'Global_intensity'\"\n",
    "df6.select([min(\"Global_intensity\").alias(\"Minimum Global Intensity \"),\n",
    "          max(\"Global_intensity\").alias(\"Maximum Global Intensity\"),\n",
    "          count(\"Global_intensity\").alias(\"Count Global Intensity\")]).show()"
   ]
  },
  {
   "cell_type": "markdown",
   "metadata": {},
   "source": [
    "#### Output the mean and standar deviation 'Global_active_power'"
   ]
  },
  {
   "cell_type": "code",
   "execution_count": 117,
   "metadata": {},
   "outputs": [
    {
     "name": "stdout",
     "output_type": "stream",
     "text": [
      "Show the output mean and standar deviation of 'Global_active_power'\n",
      "+------------------------+-------------------------------------+\n",
      "|Mean Global Active Power|Standar Deviation Global Active Power|\n",
      "+------------------------+-------------------------------------+\n",
      "|      1.0916150365007313|                    1.057294161093981|\n",
      "+------------------------+-------------------------------------+\n",
      "\n"
     ]
    }
   ],
   "source": [
    "print \"Show the output mean and standar deviation of 'Global_active_power'\"\n",
    "df6.select([mean(\"Global_active_power\").alias(\"Mean Global Active Power\"),\n",
    "           stddev(\"Global_active_power\").alias(\"Standar Deviation Global Active Power\")]).show()"
   ]
  },
  {
   "cell_type": "markdown",
   "metadata": {},
   "source": [
    "#### Output the mean and standar deviation 'Global_reactive_power'"
   ]
  },
  {
   "cell_type": "code",
   "execution_count": 118,
   "metadata": {
    "scrolled": true
   },
   "outputs": [
    {
     "name": "stdout",
     "output_type": "stream",
     "text": [
      "Show the output mean and standar deviation of  'Global_reactive_power'\n",
      "+--------------------------+-----------------------------+\n",
      "|Mean Global Reactive Power|Standar Global Reactive power|\n",
      "+--------------------------+-----------------------------+\n",
      "|       0.12371447630388727|           0.1127219795507159|\n",
      "+--------------------------+-----------------------------+\n",
      "\n"
     ]
    }
   ],
   "source": [
    "print \"Show the output mean and standar deviation of  'Global_reactive_power'\"\n",
    "df6.select([mean(\"Global_reactive_power\").alias(\"Mean Global Reactive Power\"),\n",
    "           stddev(\"Global_reactive_power\").alias(\"Standar Global Reactive power\")]).show()"
   ]
  },
  {
   "cell_type": "markdown",
   "metadata": {},
   "source": [
    "#### Output the mean and standar deviation 'Voltage'"
   ]
  },
  {
   "cell_type": "code",
   "execution_count": 119,
   "metadata": {},
   "outputs": [
    {
     "name": "stdout",
     "output_type": "stream",
     "text": [
      "Show the output mean and standar deviation of 'Voltage'\n",
      "+------------------+-------------------------+\n",
      "|      Mean Voltage|Standar Deviation Voltage|\n",
      "+------------------+-------------------------+\n",
      "|240.83985797455423|       3.2399866790102716|\n",
      "+------------------+-------------------------+\n",
      "\n"
     ]
    }
   ],
   "source": [
    "print \"Show the output mean and standar deviation of 'Voltage'\"\n",
    "df6.select([mean(\"Voltage\").alias(\"Mean Voltage\"),\n",
    "           stddev(\"Voltage\").alias(\"Standar Deviation Voltage\")]).show()"
   ]
  },
  {
   "cell_type": "markdown",
   "metadata": {},
   "source": [
    "#### Output the mean and standar deviation 'Global_intensity'"
   ]
  },
  {
   "cell_type": "code",
   "execution_count": 120,
   "metadata": {
    "scrolled": false
   },
   "outputs": [
    {
     "name": "stdout",
     "output_type": "stream",
     "text": [
      "Show the output mean and standar deviation of 'Global_intensity'\n",
      "+---------------------+----------------------------------+\n",
      "|Mean Global Intensity|Standar Deviation Global Intensity|\n",
      "+---------------------+----------------------------------+\n",
      "|    4.627759310588489|                 4.444396259786191|\n",
      "+---------------------+----------------------------------+\n",
      "\n"
     ]
    }
   ],
   "source": [
    "print \"Show the output mean and standar deviation of 'Global_intensity'\"\n",
    "df6.select([mean(\"Global_intensity\").alias(\"Mean Global Intensity\"),\n",
    "           stddev(\"Global_intensity\").alias(\"Standar Deviation Global Intensity\")]).show()"
   ]
  },
  {
   "cell_type": "code",
   "execution_count": 121,
   "metadata": {
    "scrolled": true
   },
   "outputs": [
    {
     "name": "stdout",
     "output_type": "stream",
     "text": [
      "+----------+--------+-------------------+---------------------+-------+----------------+\n",
      "|      Date|    Time|Global Active Power|Global Reactive Power|Voltage|Global Intensity|\n",
      "+----------+--------+-------------------+---------------------+-------+----------------+\n",
      "|16/12/2006|19:59:00|              3.214|                0.078| 232.66|            13.8|\n",
      "|16/12/2006|20:27:00|              3.258|                0.076| 234.57|            13.8|\n",
      "|16/12/2006|21:40:00|               2.36|                0.064| 236.89|            10.8|\n",
      "|17/12/2006|03:19:00|              0.424|                  0.0| 244.88|             3.2|\n",
      "|17/12/2006|04:39:00|              3.412|                0.052| 242.49|            14.0|\n",
      "|17/12/2006|09:44:00|              0.338|                0.076| 241.21|             1.4|\n",
      "|17/12/2006|13:07:00|              1.712|                0.344| 236.85|             7.2|\n",
      "|17/12/2006|14:37:00|              2.118|                 0.25| 242.89|             8.6|\n",
      "|17/12/2006|14:53:00|              2.154|                 0.24| 243.78|             8.8|\n",
      "|17/12/2006|18:47:00|               3.76|                0.052| 233.79|            16.0|\n",
      "|17/12/2006|22:54:00|                0.9|                0.202| 245.37|             3.8|\n",
      "|18/12/2006|08:54:00|              3.078|                0.078| 235.25|            13.6|\n",
      "|19/12/2006|03:41:00|              0.346|                0.126| 243.07|             1.6|\n",
      "|19/12/2006|04:21:00|                0.5|                0.362| 243.68|             2.4|\n",
      "|19/12/2006|12:57:00|              0.232|                  0.0|  244.5|             1.0|\n",
      "|19/12/2006|14:24:00|              0.304|                0.132| 246.57|             1.4|\n",
      "|19/12/2006|17:38:00|              2.276|                  0.0| 237.87|             9.4|\n",
      "|19/12/2006|19:59:00|              2.122|                0.126| 240.45|             8.8|\n",
      "|19/12/2006|21:51:00|              0.604|                  0.0| 243.38|             2.8|\n",
      "|20/12/2006|00:51:00|              0.308|                 0.14| 246.38|             1.4|\n",
      "|20/12/2006|01:21:00|              0.242|                  0.0|  244.3|             1.2|\n",
      "|20/12/2006|04:03:00|              0.318|                 0.14| 246.05|             1.4|\n",
      "|20/12/2006|04:58:00|              0.286|                 0.12| 244.99|             1.2|\n",
      "|20/12/2006|10:08:00|              1.292|                  0.0| 243.23|             5.2|\n",
      "|20/12/2006|12:27:00|              1.592|                0.104| 242.33|             6.6|\n",
      "|20/12/2006|13:47:00|              1.474|                0.228| 241.65|             6.0|\n",
      "|20/12/2006|15:11:00|              0.224|                  0.0| 246.91|             1.0|\n",
      "|20/12/2006|19:37:00|              2.484|                0.112| 236.88|            10.4|\n",
      "|20/12/2006|20:04:00|              3.338|                0.288| 236.59|            14.0|\n",
      "|21/12/2006|06:17:00|              0.322|                0.116| 244.73|             1.4|\n",
      "+----------+--------+-------------------+---------------------+-------+----------------+\n",
      "only showing top 30 rows\n",
      "\n"
     ]
    }
   ],
   "source": [
    "from pyspark.sql import functions as F\n",
    "df6.groupBy(\"Date\",\"Time\").agg(F.sum(\"Global_active_power\").alias(\"Global Active Power\"),\n",
    "                       F.sum(\"Global_reactive_power\").alias(\"Global Reactive Power\"),\n",
    "                       F.sum(\"Voltage\").alias(\"Voltage\"),\n",
    "                       F.sum(\"Global_intensity\").alias(\"Global Intensity\")).show(n = 30)"
   ]
  },
  {
   "cell_type": "markdown",
   "metadata": {},
   "source": [
    "### (3) Perform min-max normalization on the columns to generate normalized output"
   ]
  },
  {
   "cell_type": "markdown",
   "metadata": {},
   "source": [
    "The min-max technique is based on the  mmin and amx values of the attribute as follows.\n",
    "Normalize values will be between 0 and 1\n",
    "\n",
    "Vn = (v - vmin) / (vmax - vmin) where\n",
    "\n",
    "vn = normalized value\n",
    "<br>v = original value\n",
    "<br>vmin = minimum value\n",
    "<br>vmax = maximum value"
   ]
  },
  {
   "cell_type": "code",
   "execution_count": 122,
   "metadata": {},
   "outputs": [
    {
     "name": "stdout",
     "output_type": "stream",
     "text": [
      "+-------------------+-----------------------+-----------------------+---------------------+\n",
      "|Global_active_power|MIN_Global_active_power|MAX_Global_active_power|Min-Max_Normalization|\n",
      "+-------------------+-----------------------+-----------------------+---------------------+\n",
      "|              4.216|                  0.076|                 11.122|   0.3747963063552418|\n",
      "|               5.36|                  0.076|                 11.122|   0.4783632084012313|\n",
      "|              5.374|                  0.076|                 11.122|   0.4796306355241717|\n",
      "|              5.388|                  0.076|                 11.122|  0.48089806264711216|\n",
      "|              3.666|                  0.076|                 11.122|   0.3250045265254391|\n",
      "|               3.52|                  0.076|                 11.122|    0.311787072243346|\n",
      "|              3.702|                  0.076|                 11.122|   0.3282636248415716|\n",
      "|                3.7|                  0.076|                 11.122|  0.32808256382400874|\n",
      "|              3.668|                  0.076|                 11.122|  0.32518558754300203|\n",
      "|              3.662|                  0.076|                 11.122|  0.32464240449031323|\n",
      "|              4.448|                  0.076|                 11.122|  0.39579938439254037|\n",
      "|              5.412|                  0.076|                 11.122|  0.48307079485786714|\n",
      "|              5.224|                  0.076|                 11.122|  0.46605105920695283|\n",
      "|              5.268|                  0.076|                 11.122|    0.470034401593337|\n",
      "|              4.054|                  0.076|                 11.122|  0.36013036393264536|\n",
      "|              3.384|                  0.076|                 11.122|  0.29947492304906753|\n",
      "|               3.27|                  0.076|                 11.122|  0.28915444504798116|\n",
      "|               3.43|                  0.076|                 11.122|  0.30363932645301467|\n",
      "|              3.266|                  0.076|                 11.122|  0.28879232301285535|\n",
      "|              3.728|                  0.076|                 11.122|   0.3306174180698896|\n",
      "+-------------------+-----------------------+-----------------------+---------------------+\n",
      "only showing top 20 rows\n",
      "\n"
     ]
    }
   ],
   "source": [
    "from pyspark.sql.functions import col\n",
    "(df6.select(min(\"Global_active_power\").alias(\"MIN_Global_active_power\"),\n",
    "            max(\"Global_active_power\").alias(\"MAX_Global_active_power\")).crossJoin(df6).withColumn(\"Min-Max_Normalization\",(col(\"Global_active_power\") - col(\"MIN_Global_active_power\")) / (col(\"MAX_Global_active_power\") - col(\"MIN_Global_active_power\")))).select(\"Global_active_power\",\n",
    "            \"MIN_Global_active_power\",\n",
    "            \"MAX_Global_active_power\",\n",
    "            \"Min-Max_Normalization\").show()"
   ]
  },
  {
   "cell_type": "code",
   "execution_count": 123,
   "metadata": {},
   "outputs": [
    {
     "name": "stdout",
     "output_type": "stream",
     "text": [
      "+---------------------+-------------------------+-------------------------+---------------------+\n",
      "|Global_Reactive_power|MIN_Global_Reactive_power|MAX_Global_Reactive_power|Min-Max_Normalization|\n",
      "+---------------------+-------------------------+-------------------------+---------------------+\n",
      "|                0.418|                      0.0|                     1.39|  0.30071942446043165|\n",
      "|                0.436|                      0.0|                     1.39|  0.31366906474820144|\n",
      "|                0.498|                      0.0|                     1.39|  0.35827338129496406|\n",
      "|                0.502|                      0.0|                     1.39|   0.3611510791366907|\n",
      "|                0.528|                      0.0|                     1.39|   0.3798561151079137|\n",
      "|                0.522|                      0.0|                     1.39|  0.37553956834532376|\n",
      "|                 0.52|                      0.0|                     1.39|   0.3741007194244605|\n",
      "|                 0.52|                      0.0|                     1.39|   0.3741007194244605|\n",
      "|                 0.51|                      0.0|                     1.39|  0.36690647482014394|\n",
      "|                 0.51|                      0.0|                     1.39|  0.36690647482014394|\n",
      "|                0.498|                      0.0|                     1.39|  0.35827338129496406|\n",
      "|                 0.47|                      0.0|                     1.39|   0.3381294964028777|\n",
      "|                0.478|                      0.0|                     1.39|  0.34388489208633094|\n",
      "|                0.398|                      0.0|                     1.39|   0.2863309352517986|\n",
      "|                0.422|                      0.0|                     1.39|   0.3035971223021583|\n",
      "|                0.282|                      0.0|                     1.39|   0.2028776978417266|\n",
      "|                0.152|                      0.0|                     1.39|  0.10935251798561152|\n",
      "|                0.156|                      0.0|                     1.39|  0.11223021582733814|\n",
      "|                  0.0|                      0.0|                     1.39|                  0.0|\n",
      "|                  0.0|                      0.0|                     1.39|                  0.0|\n",
      "+---------------------+-------------------------+-------------------------+---------------------+\n",
      "only showing top 20 rows\n",
      "\n"
     ]
    }
   ],
   "source": [
    "(df6.select(min(\"Global_reactive_power\").alias(\"MIN_Global_Reactive_power\"),\n",
    "            max(\"Global_reactive_power\").alias(\"MAX_Global_Reactive_power\")).crossJoin(df6).withColumn(\"Min-Max_Normalization\",(col(\"Global_reactive_power\") - col(\"MIN_Global_Reactive_power\")) / (col(\"MAX_Global_Reactive_power\") - col(\"MIN_Global_Reactive_power\")))).select(\"Global_Reactive_power\",\n",
    "            \"MIN_Global_Reactive_power\",\n",
    "            \"MAX_Global_Reactive_power\",\n",
    "            \"Min-Max_Normalization\").show()"
   ]
  },
  {
   "cell_type": "code",
   "execution_count": 124,
   "metadata": {},
   "outputs": [
    {
     "name": "stdout",
     "output_type": "stream",
     "text": [
      "+-------+-----------+-----------+---------------------+\n",
      "|Voltage|MIN_Voltage|MAX_Voltage|Min-Max_Normalization|\n",
      "+-------+-----------+-----------+---------------------+\n",
      "| 234.84|      223.2|     254.15|    0.376090468497577|\n",
      "| 233.63|      223.2|     254.15|  0.33699515347334413|\n",
      "| 233.29|      223.2|     254.15|  0.32600969305331173|\n",
      "| 233.74|      223.2|     254.15|   0.3405492730210021|\n",
      "| 235.68|      223.2|     254.15|   0.4032310177705981|\n",
      "| 235.02|      223.2|     254.15|   0.3819063004846531|\n",
      "| 235.09|      223.2|     254.15|   0.3841680129240713|\n",
      "| 235.22|      223.2|     254.15|  0.38836833602584825|\n",
      "| 233.99|      223.2|     254.15|   0.3486268174474964|\n",
      "| 233.86|      223.2|     254.15|  0.34442649434571954|\n",
      "| 232.86|      223.2|     254.15|  0.31211631663974215|\n",
      "| 232.78|      223.2|     254.15|  0.30953150242326355|\n",
      "| 232.99|      223.2|     254.15|   0.3163166397415191|\n",
      "| 232.91|      223.2|     254.15|   0.3137318255250405|\n",
      "| 235.24|      223.2|     254.15|   0.3890145395799681|\n",
      "| 237.14|      223.2|     254.15|   0.4504038772213244|\n",
      "| 236.73|      223.2|     254.15|  0.43715670436187376|\n",
      "| 237.06|      223.2|     254.15|   0.4478190630048467|\n",
      "| 237.13|      223.2|     254.15|   0.4500807754442649|\n",
      "| 235.84|      223.2|     254.15|   0.4084006462035544|\n",
      "+-------+-----------+-----------+---------------------+\n",
      "only showing top 20 rows\n",
      "\n"
     ]
    }
   ],
   "source": [
    "(df6.select(min(\"Voltage\").alias(\"MIN_Voltage\"),\n",
    "            max(\"Voltage\").alias(\"MAX_Voltage\")).crossJoin(df6).withColumn(\"Min-Max_Normalization\",(col(\"Voltage\") - col(\"MIN_Voltage\")) / (col(\"MAX_Voltage\") - col(\"MIN_Voltage\")))).select(\"Voltage\",\n",
    "            \"MIN_Voltage\",\n",
    "            \"MAX_Voltage\",\n",
    "            \"Min-Max_Normalization\").show()"
   ]
  },
  {
   "cell_type": "code",
   "execution_count": 125,
   "metadata": {},
   "outputs": [
    {
     "name": "stdout",
     "output_type": "stream",
     "text": [
      "+----------------+--------------------+--------------------+---------------------+\n",
      "|Global_intensity|MIN_Global_Intensity|MAX_Global_Intensity|Min-Max_Normalization|\n",
      "+----------------+--------------------+--------------------+---------------------+\n",
      "|            18.4|                 0.2|                48.4| 0.004522821576763486|\n",
      "|            23.0|                 0.2|                48.4| 0.004896265560165976|\n",
      "|            23.0|                 0.2|                48.4| 0.006182572614107884|\n",
      "|            23.0|                 0.2|                48.4| 0.006265560165975104|\n",
      "|            15.8|                 0.2|                48.4| 0.006804979253112034|\n",
      "|            15.0|                 0.2|                48.4| 0.006680497925311204|\n",
      "|            15.8|                 0.2|                48.4| 0.006639004149377594|\n",
      "|            15.8|                 0.2|                48.4| 0.006639004149377594|\n",
      "|            15.8|                 0.2|                48.4| 0.006431535269709544|\n",
      "|            15.8|                 0.2|                48.4| 0.006431535269709544|\n",
      "|            19.6|                 0.2|                48.4| 0.006182572614107884|\n",
      "|            23.2|                 0.2|                48.4| 0.005601659751037...|\n",
      "|            22.4|                 0.2|                48.4| 0.005767634854771784|\n",
      "|            22.6|                 0.2|                48.4| 0.004107883817427387|\n",
      "|            17.6|                 0.2|                48.4| 0.004605809128630706|\n",
      "|            14.2|                 0.2|                48.4| 0.001701244813278...|\n",
      "|            13.8|                 0.2|                48.4| -9.95850622406639...|\n",
      "|            14.4|                 0.2|                48.4| -9.12863070539419...|\n",
      "|            13.8|                 0.2|                48.4| -0.00414937759336...|\n",
      "|            16.4|                 0.2|                48.4| -0.00414937759336...|\n",
      "+----------------+--------------------+--------------------+---------------------+\n",
      "only showing top 20 rows\n",
      "\n"
     ]
    }
   ],
   "source": [
    "(df6.select(min(\"Global_intensity\").alias(\"MIN_Global_intensity\"),\n",
    "            max(\"Global_intensity\").alias(\"MAX_Global_intensity\")).crossJoin(df6).withColumn(\"Min-Max_Normalization\",(col(\"Global_reactive_power\") - col(\"MIN_Global_Intensity\")) / (col(\"MAX_Global_Intensity\") - col(\"MIN_Global_Intensity\")))).select(\"Global_intensity\",\n",
    "            \"MIN_Global_Intensity\",\n",
    "            \"MAX_Global_Intensity\",\n",
    "            \"Min-Max_Normalization\").show()"
   ]
  }
 ],
 "metadata": {
  "kernelspec": {
   "display_name": "Python 2",
   "language": "python",
   "name": "python2"
  },
  "language_info": {
   "codemirror_mode": {
    "name": "ipython",
    "version": 2
   },
   "file_extension": ".py",
   "mimetype": "text/x-python",
   "name": "python",
   "nbconvert_exporter": "python",
   "pygments_lexer": "ipython2",
   "version": "2.7.12"
  }
 },
 "nbformat": 4,
 "nbformat_minor": 2
}
